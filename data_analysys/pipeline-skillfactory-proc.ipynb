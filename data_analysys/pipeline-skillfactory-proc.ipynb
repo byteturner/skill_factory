{
 "cells": [
  {
   "cell_type": "markdown",
   "metadata": {
    "toc": "true"
   },
   "source": [
    "# Table of Contents\n",
    " <p><div class=\"lev1 toc-item\"><a href=\"#Skillfactory---Практический-Machine-Learning\" data-toc-modified-id=\"Skillfactory---Практический-Machine-Learning-1\"><span class=\"toc-item-num\">1&nbsp;&nbsp;</span>Skillfactory - Практический Machine Learning</a></div><div class=\"lev2 toc-item\"><a href=\"#19/02/2018---Аномалии,-работа-с-признаками,-пайплайны\" data-toc-modified-id=\"19/02/2018---Аномалии,-работа-с-признаками,-пайплайны-11\"><span class=\"toc-item-num\">1.1&nbsp;&nbsp;</span>19/02/2018 - Аномалии, работа с признаками, пайплайны</a></div><div class=\"lev1 toc-item\"><a href=\"#(Де)мотивация\" data-toc-modified-id=\"(Де)мотивация-2\"><span class=\"toc-item-num\">2&nbsp;&nbsp;</span>(Де)мотивация</a></div><div class=\"lev4 toc-item\"><a href=\"#Рассмотрим-кейс\" data-toc-modified-id=\"Рассмотрим-кейс-2001\"><span class=\"toc-item-num\">2.0.0.1&nbsp;&nbsp;</span>Рассмотрим кейс</a></div><div class=\"lev1 toc-item\"><a href=\"#(Anomaly-Detection)-Выявление-аномалий\" data-toc-modified-id=\"(Anomaly-Detection)-Выявление-аномалий-3\"><span class=\"toc-item-num\">3&nbsp;&nbsp;</span>(Anomaly Detection) Выявление аномалий</a></div><div class=\"lev2 toc-item\"><a href=\"#Примеры-задач,-где-выявление-аномалий---сама-цель\" data-toc-modified-id=\"Примеры-задач,-где-выявление-аномалий---сама-цель-31\"><span class=\"toc-item-num\">3.1&nbsp;&nbsp;</span>Примеры задач, где выявление аномалий - сама цель</a></div><div class=\"lev2 toc-item\"><a href=\"#Moscow-Data-Science-Meetup-report\" data-toc-modified-id=\"Moscow-Data-Science-Meetup-report-32\"><span class=\"toc-item-num\">3.2&nbsp;&nbsp;</span><a href=\"https://youtu.be/o5QCVyI0dSA?t=1994\" target=\"_blank\">Moscow Data Science Meetup report</a></a></div><div class=\"lev2 toc-item\"><a href=\"#Влияние-аномалий-в-данных-на-модели\" data-toc-modified-id=\"Влияние-аномалий-в-данных-на-модели-33\"><span class=\"toc-item-num\">3.3&nbsp;&nbsp;</span>Влияние аномалий в данных на модели</a></div><div class=\"lev2 toc-item\"><a href=\"#Подходы-к-решению\" data-toc-modified-id=\"Подходы-к-решению-34\"><span class=\"toc-item-num\">3.4&nbsp;&nbsp;</span>Подходы к решению</a></div><div class=\"lev3 toc-item\"><a href=\"#Ответы-алгоритмов\" data-toc-modified-id=\"Ответы-алгоритмов-341\"><span class=\"toc-item-num\">3.4.1&nbsp;&nbsp;</span>Ответы алгоритмов</a></div><div class=\"lev2 toc-item\"><a href=\"#Визуальный-анализ\" data-toc-modified-id=\"Визуальный-анализ-35\"><span class=\"toc-item-num\">3.5&nbsp;&nbsp;</span>Визуальный анализ</a></div><div class=\"lev2 toc-item\"><a href=\"#Методы,-основанные-на-плотности-и-расстоянии\" data-toc-modified-id=\"Методы,-основанные-на-плотности-и-расстоянии-36\"><span class=\"toc-item-num\">3.6&nbsp;&nbsp;</span>Методы, основанные на плотности и расстоянии</a></div><div class=\"lev3 toc-item\"><a href=\"#Local-Outlier-Factor\" data-toc-modified-id=\"Local-Outlier-Factor-361\"><span class=\"toc-item-num\">3.6.1&nbsp;&nbsp;</span>Local Outlier Factor</a></div><div class=\"lev2 toc-item\"><a href=\"#Методы-машинного-обучения\" data-toc-modified-id=\"Методы-машинного-обучения-37\"><span class=\"toc-item-num\">3.7&nbsp;&nbsp;</span>Методы машинного обучения</a></div><div class=\"lev3 toc-item\"><a href=\"#Изолирующий-лес\" data-toc-modified-id=\"Изолирующий-лес-371\"><span class=\"toc-item-num\">3.7.1&nbsp;&nbsp;</span>Изолирующий лес</a></div><div class=\"lev2 toc-item\"><a href=\"#Методы-основанные-на-кластеризации\" data-toc-modified-id=\"Методы-основанные-на-кластеризации-38\"><span class=\"toc-item-num\">3.8&nbsp;&nbsp;</span>Методы основанные на кластеризации</a></div><div class=\"lev1 toc-item\"><a href=\"#Дисбаланс-классов\" data-toc-modified-id=\"Дисбаланс-классов-4\"><span class=\"toc-item-num\">4&nbsp;&nbsp;</span>Дисбаланс классов</a></div><div class=\"lev2 toc-item\"><a href=\"#Способы-балансировки-классов\" data-toc-modified-id=\"Способы-балансировки-классов-41\"><span class=\"toc-item-num\">4.1&nbsp;&nbsp;</span>Способы балансировки классов</a></div><div class=\"lev3 toc-item\"><a href=\"#Сэмплирование\" data-toc-modified-id=\"Сэмплирование-411\"><span class=\"toc-item-num\">4.1.1&nbsp;&nbsp;</span>Сэмплирование</a></div><div class=\"lev2 toc-item\"><a href=\"#Under-sampling\" data-toc-modified-id=\"Under-sampling-42\"><span class=\"toc-item-num\">4.2&nbsp;&nbsp;</span>Under-sampling</a></div><div class=\"lev2 toc-item\"><a href=\"#Over-sampling\" data-toc-modified-id=\"Over-sampling-43\"><span class=\"toc-item-num\">4.3&nbsp;&nbsp;</span>Over sampling</a></div><div class=\"lev2 toc-item\"><a href=\"#SMOTE\" data-toc-modified-id=\"SMOTE-44\"><span class=\"toc-item-num\">4.4&nbsp;&nbsp;</span>SMOTE</a></div><div class=\"lev3 toc-item\"><a href=\"#Synthetic-Minority-Over-sampling-Technique\" data-toc-modified-id=\"Synthetic-Minority-Over-sampling-Technique-441\"><span class=\"toc-item-num\">4.4.1&nbsp;&nbsp;</span>Synthetic Minority Over-sampling Technique</a></div><div class=\"lev2 toc-item\"><a href=\"#Ансамблевые-методы\" data-toc-modified-id=\"Ансамблевые-методы-45\"><span class=\"toc-item-num\">4.5&nbsp;&nbsp;</span>Ансамблевые методы</a></div><div class=\"lev3 toc-item\"><a href=\"#Easy-Ensemble\" data-toc-modified-id=\"Easy-Ensemble-451\"><span class=\"toc-item-num\">4.5.1&nbsp;&nbsp;</span>Easy Ensemble</a></div><div class=\"lev2 toc-item\"><a href=\"#Попробуем-сами\" data-toc-modified-id=\"Попробуем-сами-46\"><span class=\"toc-item-num\">4.6&nbsp;&nbsp;</span>Попробуем сами</a></div><div class=\"lev1 toc-item\"><a href=\"#Пропущенные-значения\" data-toc-modified-id=\"Пропущенные-значения-5\"><span class=\"toc-item-num\">5&nbsp;&nbsp;</span>Пропущенные значения</a></div><div class=\"lev2 toc-item\"><a href=\"#Наиболее-распространенные-способы-работы-с-пропусками\" data-toc-modified-id=\"Наиболее-распространенные-способы-работы-с-пропусками-51\"><span class=\"toc-item-num\">5.1&nbsp;&nbsp;</span>Наиболее распространенные способы работы с пропусками</a></div><div class=\"lev1 toc-item\"><a href=\"#Работа-с-признаками\" data-toc-modified-id=\"Работа-с-признаками-6\"><span class=\"toc-item-num\">6&nbsp;&nbsp;</span>Работа с признаками</a></div><div class=\"lev2 toc-item\"><a href=\"#Категориальные-признаки\" data-toc-modified-id=\"Категориальные-признаки-61\"><span class=\"toc-item-num\">6.1&nbsp;&nbsp;</span>Категориальные признаки</a></div><div class=\"lev2 toc-item\"><a href=\"#Бинирование-признаков\" data-toc-modified-id=\"Бинирование-признаков-62\"><span class=\"toc-item-num\">6.2&nbsp;&nbsp;</span>Бинирование признаков</a></div><div class=\"lev2 toc-item\"><a href=\"#Feature-Selection-(для-Supervised-Models)\" data-toc-modified-id=\"Feature-Selection-(для-Supervised-Models)-63\"><span class=\"toc-item-num\">6.3&nbsp;&nbsp;</span>Feature Selection (для Supervised Models)</a></div><div class=\"lev4 toc-item\"><a href=\"#Filter-method---Mutual-Information\" data-toc-modified-id=\"Filter-method---Mutual-Information-6301\"><span class=\"toc-item-num\">6.3.0.1&nbsp;&nbsp;</span>Filter method - Mutual Information</a></div><div class=\"lev4 toc-item\"><a href=\"#Filter-method---Information-Value,-Weight-Of-Evidence\" data-toc-modified-id=\"Filter-method---Information-Value,-Weight-Of-Evidence-6302\"><span class=\"toc-item-num\">6.3.0.2&nbsp;&nbsp;</span>Filter method - Information Value, Weight Of Evidence</a></div><div class=\"lev4 toc-item\"><a href=\"#Wrapper-methods\" data-toc-modified-id=\"Wrapper-methods-6303\"><span class=\"toc-item-num\">6.3.0.3&nbsp;&nbsp;</span>Wrapper methods</a></div><div class=\"lev4 toc-item\"><a href=\"#Embedded-methods\" data-toc-modified-id=\"Embedded-methods-6304\"><span class=\"toc-item-num\">6.3.0.4&nbsp;&nbsp;</span>Embedded methods</a></div><div class=\"lev2 toc-item\"><a href=\"#CountVectorizer-и-TF-IDF\" data-toc-modified-id=\"CountVectorizer-и-TF-IDF-64\"><span class=\"toc-item-num\">6.4&nbsp;&nbsp;</span>CountVectorizer и TF-IDF</a></div><div class=\"lev3 toc-item\"><a href=\"#Анализ-тональности\" data-toc-modified-id=\"Анализ-тональности-641\"><span class=\"toc-item-num\">6.4.1&nbsp;&nbsp;</span>Анализ тональности</a></div><div class=\"lev4 toc-item\"><a href=\"#Загрузите-текстовые-данные-отсюда.\" data-toc-modified-id=\"Загрузите-текстовые-данные-отсюда.-6411\"><span class=\"toc-item-num\">6.4.1.1&nbsp;&nbsp;</span>Загрузите текстовые данные <a href=\"https://archive.ics.uci.edu/ml/machine-learning-databases/00331/\" target=\"_blank\">отсюда</a>.</a></div><div class=\"lev4 toc-item\"><a href=\"#Задача\" data-toc-modified-id=\"Задача-6412\"><span class=\"toc-item-num\">6.4.1.2&nbsp;&nbsp;</span>Задача</a></div>"
   ]
  },
  {
   "cell_type": "markdown",
   "metadata": {},
   "source": [
    "# Skillfactory - Практический Machine Learning\n",
    "## 19/02/2018 - Аномалии, работа с признаками, пайплайны\n",
    "\n",
    "<center> Шестаков Андрей </center>"
   ]
  },
  {
   "cell_type": "code",
   "execution_count": null,
   "metadata": {
    "pycharm": {
     "is_executing": true
    }
   },
   "outputs": [],
   "source": [
    "import pandas as pd\n",
    "import numpy as np\n",
    "import matplotlib.pyplot as plt\n",
    "\n",
    "\n",
    "%matplotlib inline\n",
    "\n",
    "plt.style.use('ggplot')\n",
    "plt.rcParams['figure.figsize'] = (12, 8)"
   ]
  },
  {
   "cell_type": "code",
   "execution_count": 2,
   "metadata": {
    "pycharm": {
     "is_executing": true
    }
   },
   "outputs": [],
   "source": [
    "import warnings\n",
    "warnings.filterwarnings('ignore')\n",
    "\n",
    "from ipywidgets import interact, IntSlider, FloatSlider"
   ]
  },
  {
   "cell_type": "markdown",
   "metadata": {},
   "source": [
    "# (Де)мотивация"
   ]
  },
  {
   "cell_type": "markdown",
   "metadata": {},
   "source": [
    "Дата саенс - это про только fit-predict, но и.."
   ]
  },
  {
   "cell_type": "markdown",
   "metadata": {},
   "source": [
    "<center><img src='img/time.jpg' width=900><center\\>"
   ]
  },
  {
   "cell_type": "markdown",
   "metadata": {},
   "source": [
    "И большую часть времени занимает именно работа с данными:\n",
    "* составление набора данных для обучения (!)\n",
    "* трансформация признаков к подходящему формату\n",
    "* отчистка от выбросов\n",
    "* анализ пропущенных значений\n",
    "* составление новых признаков\n",
    "* ..."
   ]
  },
  {
   "cell_type": "markdown",
   "metadata": {},
   "source": [
    "<center><img src='img/time2.png' width=500><center\\>"
   ]
  },
  {
   "cell_type": "markdown",
   "metadata": {},
   "source": [
    "Почему это так важно?\n",
    "\n",
    "Никто не отменял правило: ** garbage in - garbage out **"
   ]
  },
  {
   "cell_type": "markdown",
   "metadata": {},
   "source": [
    "#### Рассмотрим кейс\n",
    "\n",
    "Некий банк выдает кредит.\n",
    "\n",
    "* Приходит заявитель, подает анкету\n",
    "* Анкета проверяется\n",
    "* Для каждого заявителя собираются признаки (по анкете и из кредитного бюро)\n",
    "* Если банк все устравивает, то заявитель получает кредит и запоминается результат (вернул ли кредит вовремя)\n",
    "\n",
    "Прошло время, банк решил сделать модель, основываясь на накопленных данных, чтобы выдавать кредиты быстрее и добросовестным людям.\n",
    "\n",
    "* Данные - признаки заявителей\n",
    "* Таргет - вернет или нет"
   ]
  },
  {
   "cell_type": "markdown",
   "metadata": {},
   "source": [
    "Построили модель. Выдаем кредит только людям с достаточно большой вероятностью возврата. Без первичной фильтрации, как было раньше.\n",
    "\n",
    "При анализе качества заметили, что число невозвратов осталось таким же (или увеличилось). Почему так могло произойти?"
   ]
  },
  {
   "cell_type": "raw",
   "metadata": {},
   "source": [
    "Think about it"
   ]
  },
  {
   "cell_type": "markdown",
   "metadata": {},
   "source": [
    "# (Anomaly Detection) Выявление аномалий\n",
    "\n",
    "aka\n",
    "* Outlier detection (выявление выбросов)\n",
    "* Novelty detection (выявление новизны в данных)\n",
    "* Noise detection (выявление шумов в данных)\n",
    "* Deviation detection (выявление отклонений в данных)"
   ]
  },
  {
   "cell_type": "markdown",
   "metadata": {},
   "source": [
    "**Аномалии** - наблюдения, которые отличаются от большинства остальных объектов и не соотносятся с ожидаемой структурой данных\n",
    "\n",
    "Количество аномалий в данных (если они есть) *ничтожно* мало по сравнению с количеством нормальных объектов"
   ]
  },
  {
   "cell_type": "markdown",
   "metadata": {},
   "source": [
    "## Примеры задач, где выявление аномалий - сама цель\n",
    "* Мошеннические действия (fraud detection)\n",
    "    * несогласованные операции по кредитным картам, \n",
    "    * взлом аккаунта\n",
    "* Проверка валидности (согласованности) записей базе данных\n",
    "    * ошибки (подтасовки) в сборе данных\n",
    "* Мониторинг стабильности систем\n",
    "    * преждевременное предупреждение сбоя на производстве"
   ]
  },
  {
   "cell_type": "markdown",
   "metadata": {},
   "source": [
    "## [Moscow Data Science Meetup report](https://youtu.be/o5QCVyI0dSA?t=1994)\n",
    "<center><img src='img/kasper.png'></center>"
   ]
  },
  {
   "cell_type": "markdown",
   "metadata": {},
   "source": [
    "## Влияние аномалий в данных на модели\n",
    "\n",
    "* Аномалии могут привести как к переобучению, так и к недообучению\n",
    "* Пример недообучения мы видели в лекции по регрессии"
   ]
  },
  {
   "cell_type": "markdown",
   "metadata": {},
   "source": [
    "## Подходы к решению\n",
    "* **Обучение без учителя** \n",
    "    * Меток нет\n",
    "    * Используется некоторое представление о том, что такое аномалия\n",
    "* **Частичное обучение** \n",
    "    * Известны только метки \"нормальных\" данных\n",
    "* **Обучение с учителем**\n",
    "    * Известны метки \"нормальных\" и аномальных данных\n",
    "\n",
    "\n",
    "### Ответы алгоритмов\n",
    "* Скор аномальности\n",
    "* Метка аномальности"
   ]
  },
  {
   "cell_type": "markdown",
   "metadata": {},
   "source": [
    "## Визуальный анализ"
   ]
  },
  {
   "cell_type": "markdown",
   "metadata": {},
   "source": [
    "\n",
    "<center><img src='img/boyfriend.png'></center>"
   ]
  },
  {
   "cell_type": "markdown",
   "metadata": {},
   "source": [
    "Данные: [Задача предсказания отклика клиентов ОТП Банка](http://www.machinelearning.ru/wiki/index.php?title=%D0%97%D0%B0%D0%B4%D0%B0%D1%87%D0%B0_%D0%BF%D1%80%D0%B5%D0%B4%D1%81%D0%BA%D0%B0%D0%B7%D0%B0%D0%BD%D0%B8%D1%8F_%D0%BE%D1%82%D0%BA%D0%BB%D0%B8%D0%BA%D0%B0_%D0%BA%D0%BB%D0%B8%D0%B5%D0%BD%D1%82%D0%BE%D0%B2_%D0%9E%D0%A2%D0%9F_%D0%91%D0%B0%D0%BD%D0%BA%D0%B0_%28%D0%BA%D0%BE%D0%BD%D0%BA%D1%83%D1%80%D1%81%29)"
   ]
  },
  {
   "cell_type": "code",
   "execution_count": 3,
   "metadata": {
    "pycharm": {
     "is_executing": true
    }
   },
   "outputs": [],
   "source": [
    "def load_otp():\n",
    "    features = pd.read_csv('data/descr.txt', sep='\\t', encoding='cp1251', names=['feature', 'descr'])\n",
    "    \n",
    "    features = features.iloc[3:]\n",
    "    feature_names = features.iloc[:, 0].values\n",
    "    \n",
    "    df_data_x = pd.read_csv('data/data_x.csv', sep=';', header=None, names=feature_names)\n",
    "    df_data_x.loc[:, 'PREVIOUS_CARD_NUM_UTILIZED'] = df_data_x.PREVIOUS_CARD_NUM_UTILIZED.fillna(0)\n",
    "    \n",
    "    features.loc[:, 'uniq_vals'] = df_data_x.apply(lambda c: c.nunique(), axis=0).values\n",
    "    \n",
    "    features = features.reset_index(drop=True)\n",
    "    \n",
    "    df_data_y = pd.read_csv('data/data_y.csv', sep=';', names=['active'])\n",
    "    \n",
    "    idx = np.where(df_data_x.dtypes == 'object')[0]\n",
    "\n",
    "    for i in idx:\n",
    "        df_data_x.iloc[:, i] = df_data_x.iloc[:, i].str.replace(',', '.').astype('float')\n",
    "        \n",
    "    df_data = df_data_x.join(df_data_y)\n",
    "    \n",
    "    return df_data, features"
   ]
  },
  {
   "cell_type": "code",
   "execution_count": 4,
   "metadata": {
    "pycharm": {
     "is_executing": true
    }
   },
   "outputs": [],
   "source": [
    "df, features = load_otp()"
   ]
  },
  {
   "cell_type": "code",
   "execution_count": 5,
   "metadata": {
    "pycharm": {
     "is_executing": true
    }
   },
   "outputs": [
    {
     "data": {
      "text/html": [
       "<div>\n",
       "<style scoped>\n",
       "    .dataframe tbody tr th:only-of-type {\n",
       "        vertical-align: middle;\n",
       "    }\n",
       "\n",
       "    .dataframe tbody tr th {\n",
       "        vertical-align: top;\n",
       "    }\n",
       "\n",
       "    .dataframe thead th {\n",
       "        text-align: right;\n",
       "    }\n",
       "</style>\n",
       "<table border=\"1\" class=\"dataframe\">\n",
       "  <thead>\n",
       "    <tr style=\"text-align: right;\">\n",
       "      <th></th>\n",
       "      <th>feature</th>\n",
       "      <th>descr</th>\n",
       "      <th>uniq_vals</th>\n",
       "    </tr>\n",
       "  </thead>\n",
       "  <tbody>\n",
       "    <tr>\n",
       "      <th>0</th>\n",
       "      <td>AGE</td>\n",
       "      <td>возраст клиента</td>\n",
       "      <td>47</td>\n",
       "    </tr>\n",
       "    <tr>\n",
       "      <th>1</th>\n",
       "      <td>SOCSTATUS_WORK_FL</td>\n",
       "      <td>социальный статус клиента относительно работы ...</td>\n",
       "      <td>2</td>\n",
       "    </tr>\n",
       "    <tr>\n",
       "      <th>2</th>\n",
       "      <td>SOCSTATUS_PENS_FL</td>\n",
       "      <td>социальный статус клиента относительно пенсии ...</td>\n",
       "      <td>2</td>\n",
       "    </tr>\n",
       "    <tr>\n",
       "      <th>3</th>\n",
       "      <td>GENDER</td>\n",
       "      <td>пол клиента</td>\n",
       "      <td>2</td>\n",
       "    </tr>\n",
       "    <tr>\n",
       "      <th>4</th>\n",
       "      <td>CHILD_TOTAL</td>\n",
       "      <td>количество детей клиента</td>\n",
       "      <td>10</td>\n",
       "    </tr>\n",
       "    <tr>\n",
       "      <th>5</th>\n",
       "      <td>DEPENDANTS</td>\n",
       "      <td>количество иждивенцев клиента</td>\n",
       "      <td>8</td>\n",
       "    </tr>\n",
       "    <tr>\n",
       "      <th>6</th>\n",
       "      <td>EDUCATION</td>\n",
       "      <td>образование</td>\n",
       "      <td>7</td>\n",
       "    </tr>\n",
       "    <tr>\n",
       "      <th>7</th>\n",
       "      <td>MARITAL_STATUS</td>\n",
       "      <td>семейное положение</td>\n",
       "      <td>5</td>\n",
       "    </tr>\n",
       "    <tr>\n",
       "      <th>8</th>\n",
       "      <td>GEN_INDUSTRY</td>\n",
       "      <td>отрасль работы клиента</td>\n",
       "      <td>31</td>\n",
       "    </tr>\n",
       "    <tr>\n",
       "      <th>9</th>\n",
       "      <td>GEN_TITLE</td>\n",
       "      <td>должность</td>\n",
       "      <td>12</td>\n",
       "    </tr>\n",
       "    <tr>\n",
       "      <th>10</th>\n",
       "      <td>ORG_TP_STATE</td>\n",
       "      <td>форма собственности компании</td>\n",
       "      <td>5</td>\n",
       "    </tr>\n",
       "    <tr>\n",
       "      <th>11</th>\n",
       "      <td>ORG_TP_FCAPITAL</td>\n",
       "      <td>отношение к иностранному капиталу</td>\n",
       "      <td>2</td>\n",
       "    </tr>\n",
       "    <tr>\n",
       "      <th>12</th>\n",
       "      <td>JOB_DIR</td>\n",
       "      <td>направление деЯтельности в нутри компании</td>\n",
       "      <td>10</td>\n",
       "    </tr>\n",
       "    <tr>\n",
       "      <th>13</th>\n",
       "      <td>FAMILY_INCOME</td>\n",
       "      <td>семейный доход (несколько категорий)</td>\n",
       "      <td>5</td>\n",
       "    </tr>\n",
       "    <tr>\n",
       "      <th>14</th>\n",
       "      <td>PERSONAL_INCOME</td>\n",
       "      <td>личный доход клиента (в рублЯх)</td>\n",
       "      <td>274</td>\n",
       "    </tr>\n",
       "    <tr>\n",
       "      <th>15</th>\n",
       "      <td>REG_ADDRESS_PROVINCE</td>\n",
       "      <td>область регистрации клиента</td>\n",
       "      <td>81</td>\n",
       "    </tr>\n",
       "    <tr>\n",
       "      <th>16</th>\n",
       "      <td>FACT_ADDRESS_PROVINCE</td>\n",
       "      <td>область фактического пребываниЯ клиента</td>\n",
       "      <td>81</td>\n",
       "    </tr>\n",
       "    <tr>\n",
       "      <th>17</th>\n",
       "      <td>POSTAL_ADDRESS_PROVINCE</td>\n",
       "      <td>почтовый адрес область</td>\n",
       "      <td>80</td>\n",
       "    </tr>\n",
       "    <tr>\n",
       "      <th>18</th>\n",
       "      <td>TP_PROVINCE</td>\n",
       "      <td>область торговой точки, где клиент брал послед...</td>\n",
       "      <td>70</td>\n",
       "    </tr>\n",
       "    <tr>\n",
       "      <th>19</th>\n",
       "      <td>REGION_NM</td>\n",
       "      <td>регион ђ”</td>\n",
       "      <td>11</td>\n",
       "    </tr>\n",
       "    <tr>\n",
       "      <th>20</th>\n",
       "      <td>REG_FACT_FL</td>\n",
       "      <td>адрес регистрации и адрес фактического пребыва...</td>\n",
       "      <td>2</td>\n",
       "    </tr>\n",
       "    <tr>\n",
       "      <th>21</th>\n",
       "      <td>FACT_POST_FL</td>\n",
       "      <td>адрес фактического пребываниЯ клиента и его по...</td>\n",
       "      <td>2</td>\n",
       "    </tr>\n",
       "    <tr>\n",
       "      <th>22</th>\n",
       "      <td>REG_POST_FL</td>\n",
       "      <td>адрес регистрации клиента и его почтовый адрес...</td>\n",
       "      <td>2</td>\n",
       "    </tr>\n",
       "    <tr>\n",
       "      <th>23</th>\n",
       "      <td>REG_FACT_POST_FL</td>\n",
       "      <td>почтовый, фактический и адрес регистрации совп...</td>\n",
       "      <td>2</td>\n",
       "    </tr>\n",
       "    <tr>\n",
       "      <th>24</th>\n",
       "      <td>REG_FACT_POST_TP_FL</td>\n",
       "      <td>область регистрации, фактического пребываниЯ, ...</td>\n",
       "      <td>2</td>\n",
       "    </tr>\n",
       "    <tr>\n",
       "      <th>25</th>\n",
       "      <td>FL_PRESENCE_FL</td>\n",
       "      <td>наличие в собственности квартиры (1 - есть, 0 ...</td>\n",
       "      <td>2</td>\n",
       "    </tr>\n",
       "    <tr>\n",
       "      <th>26</th>\n",
       "      <td>OWN_AUTO</td>\n",
       "      <td>кол-во автомобилей в собственности</td>\n",
       "      <td>3</td>\n",
       "    </tr>\n",
       "    <tr>\n",
       "      <th>27</th>\n",
       "      <td>AUTO_RUS_FL</td>\n",
       "      <td>наличие в собственности автомобилЯ российского...</td>\n",
       "      <td>2</td>\n",
       "    </tr>\n",
       "    <tr>\n",
       "      <th>28</th>\n",
       "      <td>HS_PRESENCE_FL</td>\n",
       "      <td>наличие в собственности загородного дома (1 - ...</td>\n",
       "      <td>2</td>\n",
       "    </tr>\n",
       "    <tr>\n",
       "      <th>29</th>\n",
       "      <td>COT_PRESENCE_FL</td>\n",
       "      <td>наличие в собственности котеджа (1 - есть, 0 -...</td>\n",
       "      <td>2</td>\n",
       "    </tr>\n",
       "    <tr>\n",
       "      <th>30</th>\n",
       "      <td>GAR_PRESENCE_FL</td>\n",
       "      <td>наличие в собственности гаража (1 - есть, 0 - ...</td>\n",
       "      <td>2</td>\n",
       "    </tr>\n",
       "    <tr>\n",
       "      <th>31</th>\n",
       "      <td>LAND_PRESENCE_FL</td>\n",
       "      <td>наличие в собственности земельного участка (1 ...</td>\n",
       "      <td>2</td>\n",
       "    </tr>\n",
       "    <tr>\n",
       "      <th>32</th>\n",
       "      <td>CREDIT</td>\n",
       "      <td>сумма последнего кредита клиента (в рублЯх)</td>\n",
       "      <td>8029</td>\n",
       "    </tr>\n",
       "    <tr>\n",
       "      <th>33</th>\n",
       "      <td>TERM</td>\n",
       "      <td>срок кредита</td>\n",
       "      <td>22</td>\n",
       "    </tr>\n",
       "    <tr>\n",
       "      <th>34</th>\n",
       "      <td>FST_PAYMENT</td>\n",
       "      <td>первоначальный взнос (в рублЯх)</td>\n",
       "      <td>2937</td>\n",
       "    </tr>\n",
       "    <tr>\n",
       "      <th>35</th>\n",
       "      <td>DL_DOCUMENT_FL</td>\n",
       "      <td>в анкете клиент указал водительское удостовере...</td>\n",
       "      <td>1</td>\n",
       "    </tr>\n",
       "    <tr>\n",
       "      <th>36</th>\n",
       "      <td>GPF_DOCUMENT_FL</td>\n",
       "      <td>в анкете клиен указал ѓЏ” (1 - указал, 0 - не ...</td>\n",
       "      <td>2</td>\n",
       "    </tr>\n",
       "    <tr>\n",
       "      <th>37</th>\n",
       "      <td>FACT_LIVING_TERM</td>\n",
       "      <td>количество месЯцев проживаниЯ по месту фактиче...</td>\n",
       "      <td>483</td>\n",
       "    </tr>\n",
       "    <tr>\n",
       "      <th>38</th>\n",
       "      <td>WORK_TIME</td>\n",
       "      <td>времЯ работы на текущем месте (в месЯцах)</td>\n",
       "      <td>302</td>\n",
       "    </tr>\n",
       "    <tr>\n",
       "      <th>39</th>\n",
       "      <td>FACT_PHONE_FL</td>\n",
       "      <td>наличие в заЯвке телефона по фактическому мест...</td>\n",
       "      <td>2</td>\n",
       "    </tr>\n",
       "    <tr>\n",
       "      <th>40</th>\n",
       "      <td>REG_PHONE_FL</td>\n",
       "      <td>наличие в заЯвке телефона по месту регистрации</td>\n",
       "      <td>2</td>\n",
       "    </tr>\n",
       "    <tr>\n",
       "      <th>41</th>\n",
       "      <td>GEN_PHONE_FL</td>\n",
       "      <td>наличие в заЯвке рабочего телефона</td>\n",
       "      <td>2</td>\n",
       "    </tr>\n",
       "    <tr>\n",
       "      <th>42</th>\n",
       "      <td>LOAN_NUM_TOTAL</td>\n",
       "      <td>количество ссуд клиента</td>\n",
       "      <td>9</td>\n",
       "    </tr>\n",
       "    <tr>\n",
       "      <th>43</th>\n",
       "      <td>LOAN_NUM_CLOSED</td>\n",
       "      <td>количество погашенных ссуд клиента</td>\n",
       "      <td>10</td>\n",
       "    </tr>\n",
       "    <tr>\n",
       "      <th>44</th>\n",
       "      <td>LOAN_NUM_PAYM</td>\n",
       "      <td>количество платежей, которые сделал клиент</td>\n",
       "      <td>78</td>\n",
       "    </tr>\n",
       "    <tr>\n",
       "      <th>45</th>\n",
       "      <td>LOAN_DLQ_NUM</td>\n",
       "      <td>количество просрочек, допущенных клиентом</td>\n",
       "      <td>14</td>\n",
       "    </tr>\n",
       "    <tr>\n",
       "      <th>46</th>\n",
       "      <td>LOAN_MAX_DLQ</td>\n",
       "      <td>номер максимальной просрочки, допущенной клиентом</td>\n",
       "      <td>7</td>\n",
       "    </tr>\n",
       "    <tr>\n",
       "      <th>47</th>\n",
       "      <td>LOAN_AVG_DLQ_AMT</td>\n",
       "      <td>среднЯЯ сумма просрочки (в рублЯх)</td>\n",
       "      <td>1141</td>\n",
       "    </tr>\n",
       "    <tr>\n",
       "      <th>48</th>\n",
       "      <td>LOAN_MAX_DLQ_AMT</td>\n",
       "      <td>максимальнаЯ сумма просрочки (в рублЯх)</td>\n",
       "      <td>993</td>\n",
       "    </tr>\n",
       "    <tr>\n",
       "      <th>49</th>\n",
       "      <td>PREVIOUS_CARD_NUM_UTILIZED</td>\n",
       "      <td>количество уже утилизированных карт ( если пус...</td>\n",
       "      <td>3</td>\n",
       "    </tr>\n",
       "  </tbody>\n",
       "</table>\n",
       "</div>"
      ],
      "text/plain": [
       "                       feature  \\\n",
       "0                          AGE   \n",
       "1            SOCSTATUS_WORK_FL   \n",
       "2            SOCSTATUS_PENS_FL   \n",
       "3                       GENDER   \n",
       "4                  CHILD_TOTAL   \n",
       "5                   DEPENDANTS   \n",
       "6                    EDUCATION   \n",
       "7               MARITAL_STATUS   \n",
       "8                 GEN_INDUSTRY   \n",
       "9                    GEN_TITLE   \n",
       "10                ORG_TP_STATE   \n",
       "11             ORG_TP_FCAPITAL   \n",
       "12                     JOB_DIR   \n",
       "13               FAMILY_INCOME   \n",
       "14             PERSONAL_INCOME   \n",
       "15        REG_ADDRESS_PROVINCE   \n",
       "16       FACT_ADDRESS_PROVINCE   \n",
       "17     POSTAL_ADDRESS_PROVINCE   \n",
       "18                 TP_PROVINCE   \n",
       "19                   REGION_NM   \n",
       "20                 REG_FACT_FL   \n",
       "21                FACT_POST_FL   \n",
       "22                 REG_POST_FL   \n",
       "23            REG_FACT_POST_FL   \n",
       "24         REG_FACT_POST_TP_FL   \n",
       "25              FL_PRESENCE_FL   \n",
       "26                    OWN_AUTO   \n",
       "27                 AUTO_RUS_FL   \n",
       "28              HS_PRESENCE_FL   \n",
       "29             COT_PRESENCE_FL   \n",
       "30             GAR_PRESENCE_FL   \n",
       "31            LAND_PRESENCE_FL   \n",
       "32                      CREDIT   \n",
       "33                        TERM   \n",
       "34                 FST_PAYMENT   \n",
       "35              DL_DOCUMENT_FL   \n",
       "36             GPF_DOCUMENT_FL   \n",
       "37            FACT_LIVING_TERM   \n",
       "38                   WORK_TIME   \n",
       "39               FACT_PHONE_FL   \n",
       "40                REG_PHONE_FL   \n",
       "41                GEN_PHONE_FL   \n",
       "42              LOAN_NUM_TOTAL   \n",
       "43             LOAN_NUM_CLOSED   \n",
       "44               LOAN_NUM_PAYM   \n",
       "45                LOAN_DLQ_NUM   \n",
       "46                LOAN_MAX_DLQ   \n",
       "47            LOAN_AVG_DLQ_AMT   \n",
       "48            LOAN_MAX_DLQ_AMT   \n",
       "49  PREVIOUS_CARD_NUM_UTILIZED   \n",
       "\n",
       "                                                descr  uniq_vals  \n",
       "0                                     возраст клиента         47  \n",
       "1   социальный статус клиента относительно работы ...          2  \n",
       "2   социальный статус клиента относительно пенсии ...          2  \n",
       "3                                         пол клиента          2  \n",
       "4                            количество детей клиента         10  \n",
       "5                       количество иждивенцев клиента          8  \n",
       "6                                         образование          7  \n",
       "7                                  семейное положение          5  \n",
       "8                              отрасль работы клиента         31  \n",
       "9                                           должность         12  \n",
       "10                       форма собственности компании          5  \n",
       "11                  отношение к иностранному капиталу          2  \n",
       "12          направление деЯтельности в нутри компании         10  \n",
       "13               семейный доход (несколько категорий)          5  \n",
       "14                    личный доход клиента (в рублЯх)        274  \n",
       "15                        область регистрации клиента         81  \n",
       "16            область фактического пребываниЯ клиента         81  \n",
       "17                             почтовый адрес область         80  \n",
       "18  область торговой точки, где клиент брал послед...         70  \n",
       "19                                          регион ђ”         11  \n",
       "20  адрес регистрации и адрес фактического пребыва...          2  \n",
       "21  адрес фактического пребываниЯ клиента и его по...          2  \n",
       "22  адрес регистрации клиента и его почтовый адрес...          2  \n",
       "23  почтовый, фактический и адрес регистрации совп...          2  \n",
       "24  область регистрации, фактического пребываниЯ, ...          2  \n",
       "25  наличие в собственности квартиры (1 - есть, 0 ...          2  \n",
       "26                кол-во автомобилей в собственности           3  \n",
       "27  наличие в собственности автомобилЯ российского...          2  \n",
       "28  наличие в собственности загородного дома (1 - ...          2  \n",
       "29  наличие в собственности котеджа (1 - есть, 0 -...          2  \n",
       "30  наличие в собственности гаража (1 - есть, 0 - ...          2  \n",
       "31  наличие в собственности земельного участка (1 ...          2  \n",
       "32        сумма последнего кредита клиента (в рублЯх)       8029  \n",
       "33                                       срок кредита         22  \n",
       "34                    первоначальный взнос (в рублЯх)       2937  \n",
       "35  в анкете клиент указал водительское удостовере...          1  \n",
       "36  в анкете клиен указал ѓЏ” (1 - указал, 0 - не ...          2  \n",
       "37  количество месЯцев проживаниЯ по месту фактиче...        483  \n",
       "38          времЯ работы на текущем месте (в месЯцах)        302  \n",
       "39  наличие в заЯвке телефона по фактическому мест...          2  \n",
       "40     наличие в заЯвке телефона по месту регистрации          2  \n",
       "41                 наличие в заЯвке рабочего телефона          2  \n",
       "42                            количество ссуд клиента          9  \n",
       "43                 количество погашенных ссуд клиента         10  \n",
       "44         количество платежей, которые сделал клиент         78  \n",
       "45          количество просрочек, допущенных клиентом         14  \n",
       "46  номер максимальной просрочки, допущенной клиентом          7  \n",
       "47                 среднЯЯ сумма просрочки (в рублЯх)       1141  \n",
       "48            максимальнаЯ сумма просрочки (в рублЯх)        993  \n",
       "49  количество уже утилизированных карт ( если пус...          3  "
      ]
     },
     "execution_count": 5,
     "metadata": {},
     "output_type": "execute_result"
    }
   ],
   "source": [
    "features"
   ]
  },
  {
   "cell_type": "code",
   "execution_count": 6,
   "metadata": {
    "pycharm": {
     "is_executing": true
    }
   },
   "outputs": [
    {
     "data": {
      "text/html": [
       "<div>\n",
       "<style scoped>\n",
       "    .dataframe tbody tr th:only-of-type {\n",
       "        vertical-align: middle;\n",
       "    }\n",
       "\n",
       "    .dataframe tbody tr th {\n",
       "        vertical-align: top;\n",
       "    }\n",
       "\n",
       "    .dataframe thead th {\n",
       "        text-align: right;\n",
       "    }\n",
       "</style>\n",
       "<table border=\"1\" class=\"dataframe\">\n",
       "  <thead>\n",
       "    <tr style=\"text-align: right;\">\n",
       "      <th></th>\n",
       "      <th>0</th>\n",
       "      <th>1</th>\n",
       "      <th>2</th>\n",
       "      <th>3</th>\n",
       "      <th>4</th>\n",
       "    </tr>\n",
       "  </thead>\n",
       "  <tbody>\n",
       "    <tr>\n",
       "      <th>AGE</th>\n",
       "      <td>49.0</td>\n",
       "      <td>32.0</td>\n",
       "      <td>52.0</td>\n",
       "      <td>39.000000</td>\n",
       "      <td>30.00</td>\n",
       "    </tr>\n",
       "    <tr>\n",
       "      <th>SOCSTATUS_WORK_FL</th>\n",
       "      <td>0.0</td>\n",
       "      <td>0.0</td>\n",
       "      <td>0.0</td>\n",
       "      <td>0.000000</td>\n",
       "      <td>0.00</td>\n",
       "    </tr>\n",
       "    <tr>\n",
       "      <th>SOCSTATUS_PENS_FL</th>\n",
       "      <td>0.0</td>\n",
       "      <td>0.0</td>\n",
       "      <td>0.0</td>\n",
       "      <td>0.000000</td>\n",
       "      <td>0.00</td>\n",
       "    </tr>\n",
       "    <tr>\n",
       "      <th>GENDER</th>\n",
       "      <td>0.0</td>\n",
       "      <td>0.0</td>\n",
       "      <td>0.0</td>\n",
       "      <td>0.000000</td>\n",
       "      <td>1.00</td>\n",
       "    </tr>\n",
       "    <tr>\n",
       "      <th>CHILD_TOTAL</th>\n",
       "      <td>2.0</td>\n",
       "      <td>3.0</td>\n",
       "      <td>4.0</td>\n",
       "      <td>1.000000</td>\n",
       "      <td>0.00</td>\n",
       "    </tr>\n",
       "    <tr>\n",
       "      <th>DEPENDANTS</th>\n",
       "      <td>1.0</td>\n",
       "      <td>3.0</td>\n",
       "      <td>0.0</td>\n",
       "      <td>1.000000</td>\n",
       "      <td>0.00</td>\n",
       "    </tr>\n",
       "    <tr>\n",
       "      <th>EDUCATION</th>\n",
       "      <td>0.0</td>\n",
       "      <td>1.0</td>\n",
       "      <td>2.0</td>\n",
       "      <td>3.000000</td>\n",
       "      <td>1.00</td>\n",
       "    </tr>\n",
       "    <tr>\n",
       "      <th>MARITAL_STATUS</th>\n",
       "      <td>0.0</td>\n",
       "      <td>0.0</td>\n",
       "      <td>0.0</td>\n",
       "      <td>0.000000</td>\n",
       "      <td>0.00</td>\n",
       "    </tr>\n",
       "    <tr>\n",
       "      <th>GEN_INDUSTRY</th>\n",
       "      <td>0.0</td>\n",
       "      <td>0.0</td>\n",
       "      <td>1.0</td>\n",
       "      <td>2.000000</td>\n",
       "      <td>3.00</td>\n",
       "    </tr>\n",
       "    <tr>\n",
       "      <th>GEN_TITLE</th>\n",
       "      <td>0.0</td>\n",
       "      <td>0.0</td>\n",
       "      <td>1.0</td>\n",
       "      <td>2.000000</td>\n",
       "      <td>1.00</td>\n",
       "    </tr>\n",
       "    <tr>\n",
       "      <th>ORG_TP_STATE</th>\n",
       "      <td>0.0</td>\n",
       "      <td>1.0</td>\n",
       "      <td>2.0</td>\n",
       "      <td>2.000000</td>\n",
       "      <td>2.00</td>\n",
       "    </tr>\n",
       "    <tr>\n",
       "      <th>ORG_TP_FCAPITAL</th>\n",
       "      <td>0.0</td>\n",
       "      <td>0.0</td>\n",
       "      <td>0.0</td>\n",
       "      <td>0.000000</td>\n",
       "      <td>0.00</td>\n",
       "    </tr>\n",
       "    <tr>\n",
       "      <th>JOB_DIR</th>\n",
       "      <td>0.0</td>\n",
       "      <td>1.0</td>\n",
       "      <td>1.0</td>\n",
       "      <td>1.000000</td>\n",
       "      <td>1.00</td>\n",
       "    </tr>\n",
       "    <tr>\n",
       "      <th>FAMILY_INCOME</th>\n",
       "      <td>3.0</td>\n",
       "      <td>3.0</td>\n",
       "      <td>3.0</td>\n",
       "      <td>4.000000</td>\n",
       "      <td>3.00</td>\n",
       "    </tr>\n",
       "    <tr>\n",
       "      <th>PERSONAL_INCOME</th>\n",
       "      <td>5000.0</td>\n",
       "      <td>12000.0</td>\n",
       "      <td>9000.0</td>\n",
       "      <td>25000.000000</td>\n",
       "      <td>12000.00</td>\n",
       "    </tr>\n",
       "    <tr>\n",
       "      <th>REG_ADDRESS_PROVINCE</th>\n",
       "      <td>0.0</td>\n",
       "      <td>1.0</td>\n",
       "      <td>2.0</td>\n",
       "      <td>3.000000</td>\n",
       "      <td>1.00</td>\n",
       "    </tr>\n",
       "    <tr>\n",
       "      <th>FACT_ADDRESS_PROVINCE</th>\n",
       "      <td>0.0</td>\n",
       "      <td>1.0</td>\n",
       "      <td>2.0</td>\n",
       "      <td>3.000000</td>\n",
       "      <td>1.00</td>\n",
       "    </tr>\n",
       "    <tr>\n",
       "      <th>POSTAL_ADDRESS_PROVINCE</th>\n",
       "      <td>0.0</td>\n",
       "      <td>1.0</td>\n",
       "      <td>2.0</td>\n",
       "      <td>3.000000</td>\n",
       "      <td>1.00</td>\n",
       "    </tr>\n",
       "    <tr>\n",
       "      <th>TP_PROVINCE</th>\n",
       "      <td>0.0</td>\n",
       "      <td>1.0</td>\n",
       "      <td>2.0</td>\n",
       "      <td>3.000000</td>\n",
       "      <td>1.00</td>\n",
       "    </tr>\n",
       "    <tr>\n",
       "      <th>REGION_NM</th>\n",
       "      <td>0.0</td>\n",
       "      <td>1.0</td>\n",
       "      <td>2.0</td>\n",
       "      <td>1.000000</td>\n",
       "      <td>1.00</td>\n",
       "    </tr>\n",
       "    <tr>\n",
       "      <th>REG_FACT_FL</th>\n",
       "      <td>1.0</td>\n",
       "      <td>1.0</td>\n",
       "      <td>1.0</td>\n",
       "      <td>0.000000</td>\n",
       "      <td>1.00</td>\n",
       "    </tr>\n",
       "    <tr>\n",
       "      <th>FACT_POST_FL</th>\n",
       "      <td>1.0</td>\n",
       "      <td>1.0</td>\n",
       "      <td>1.0</td>\n",
       "      <td>1.000000</td>\n",
       "      <td>1.00</td>\n",
       "    </tr>\n",
       "    <tr>\n",
       "      <th>REG_POST_FL</th>\n",
       "      <td>1.0</td>\n",
       "      <td>1.0</td>\n",
       "      <td>1.0</td>\n",
       "      <td>0.000000</td>\n",
       "      <td>1.00</td>\n",
       "    </tr>\n",
       "    <tr>\n",
       "      <th>REG_FACT_POST_FL</th>\n",
       "      <td>1.0</td>\n",
       "      <td>1.0</td>\n",
       "      <td>1.0</td>\n",
       "      <td>0.000000</td>\n",
       "      <td>1.00</td>\n",
       "    </tr>\n",
       "    <tr>\n",
       "      <th>REG_FACT_POST_TP_FL</th>\n",
       "      <td>1.0</td>\n",
       "      <td>0.0</td>\n",
       "      <td>1.0</td>\n",
       "      <td>1.000000</td>\n",
       "      <td>0.00</td>\n",
       "    </tr>\n",
       "    <tr>\n",
       "      <th>FL_PRESENCE_FL</th>\n",
       "      <td>0.0</td>\n",
       "      <td>0.0</td>\n",
       "      <td>0.0</td>\n",
       "      <td>1.000000</td>\n",
       "      <td>0.00</td>\n",
       "    </tr>\n",
       "    <tr>\n",
       "      <th>OWN_AUTO</th>\n",
       "      <td>0.0</td>\n",
       "      <td>0.0</td>\n",
       "      <td>0.0</td>\n",
       "      <td>0.000000</td>\n",
       "      <td>0.00</td>\n",
       "    </tr>\n",
       "    <tr>\n",
       "      <th>AUTO_RUS_FL</th>\n",
       "      <td>0.0</td>\n",
       "      <td>0.0</td>\n",
       "      <td>0.0</td>\n",
       "      <td>0.000000</td>\n",
       "      <td>0.00</td>\n",
       "    </tr>\n",
       "    <tr>\n",
       "      <th>HS_PRESENCE_FL</th>\n",
       "      <td>0.0</td>\n",
       "      <td>0.0</td>\n",
       "      <td>1.0</td>\n",
       "      <td>0.000000</td>\n",
       "      <td>1.00</td>\n",
       "    </tr>\n",
       "    <tr>\n",
       "      <th>COT_PRESENCE_FL</th>\n",
       "      <td>0.0</td>\n",
       "      <td>0.0</td>\n",
       "      <td>0.0</td>\n",
       "      <td>0.000000</td>\n",
       "      <td>0.00</td>\n",
       "    </tr>\n",
       "    <tr>\n",
       "      <th>GAR_PRESENCE_FL</th>\n",
       "      <td>0.0</td>\n",
       "      <td>0.0</td>\n",
       "      <td>0.0</td>\n",
       "      <td>0.000000</td>\n",
       "      <td>0.00</td>\n",
       "    </tr>\n",
       "    <tr>\n",
       "      <th>LAND_PRESENCE_FL</th>\n",
       "      <td>0.0</td>\n",
       "      <td>0.0</td>\n",
       "      <td>0.0</td>\n",
       "      <td>0.000000</td>\n",
       "      <td>0.00</td>\n",
       "    </tr>\n",
       "    <tr>\n",
       "      <th>CREDIT</th>\n",
       "      <td>8000.0</td>\n",
       "      <td>21650.0</td>\n",
       "      <td>33126.0</td>\n",
       "      <td>8491.820000</td>\n",
       "      <td>21990.00</td>\n",
       "    </tr>\n",
       "    <tr>\n",
       "      <th>TERM</th>\n",
       "      <td>6.0</td>\n",
       "      <td>6.0</td>\n",
       "      <td>12.0</td>\n",
       "      <td>6.000000</td>\n",
       "      <td>12.00</td>\n",
       "    </tr>\n",
       "    <tr>\n",
       "      <th>FST_PAYMENT</th>\n",
       "      <td>8650.0</td>\n",
       "      <td>4000.0</td>\n",
       "      <td>4000.0</td>\n",
       "      <td>5000.000000</td>\n",
       "      <td>4000.00</td>\n",
       "    </tr>\n",
       "    <tr>\n",
       "      <th>DL_DOCUMENT_FL</th>\n",
       "      <td>0.0</td>\n",
       "      <td>0.0</td>\n",
       "      <td>0.0</td>\n",
       "      <td>0.000000</td>\n",
       "      <td>0.00</td>\n",
       "    </tr>\n",
       "    <tr>\n",
       "      <th>GPF_DOCUMENT_FL</th>\n",
       "      <td>1.0</td>\n",
       "      <td>1.0</td>\n",
       "      <td>1.0</td>\n",
       "      <td>0.000000</td>\n",
       "      <td>1.00</td>\n",
       "    </tr>\n",
       "    <tr>\n",
       "      <th>FACT_LIVING_TERM</th>\n",
       "      <td>220.0</td>\n",
       "      <td>137.0</td>\n",
       "      <td>251.0</td>\n",
       "      <td>36.000000</td>\n",
       "      <td>83.00</td>\n",
       "    </tr>\n",
       "    <tr>\n",
       "      <th>WORK_TIME</th>\n",
       "      <td>18.0</td>\n",
       "      <td>97.0</td>\n",
       "      <td>84.0</td>\n",
       "      <td>168.000000</td>\n",
       "      <td>101.00</td>\n",
       "    </tr>\n",
       "    <tr>\n",
       "      <th>FACT_PHONE_FL</th>\n",
       "      <td>0.0</td>\n",
       "      <td>1.0</td>\n",
       "      <td>0.0</td>\n",
       "      <td>1.000000</td>\n",
       "      <td>1.00</td>\n",
       "    </tr>\n",
       "    <tr>\n",
       "      <th>REG_PHONE_FL</th>\n",
       "      <td>0.0</td>\n",
       "      <td>0.0</td>\n",
       "      <td>0.0</td>\n",
       "      <td>1.000000</td>\n",
       "      <td>0.00</td>\n",
       "    </tr>\n",
       "    <tr>\n",
       "      <th>GEN_PHONE_FL</th>\n",
       "      <td>1.0</td>\n",
       "      <td>1.0</td>\n",
       "      <td>1.0</td>\n",
       "      <td>1.000000</td>\n",
       "      <td>1.00</td>\n",
       "    </tr>\n",
       "    <tr>\n",
       "      <th>LOAN_NUM_TOTAL</th>\n",
       "      <td>1.0</td>\n",
       "      <td>1.0</td>\n",
       "      <td>2.0</td>\n",
       "      <td>1.000000</td>\n",
       "      <td>2.00</td>\n",
       "    </tr>\n",
       "    <tr>\n",
       "      <th>LOAN_NUM_CLOSED</th>\n",
       "      <td>1.0</td>\n",
       "      <td>1.0</td>\n",
       "      <td>1.0</td>\n",
       "      <td>1.000000</td>\n",
       "      <td>1.00</td>\n",
       "    </tr>\n",
       "    <tr>\n",
       "      <th>LOAN_NUM_PAYM</th>\n",
       "      <td>6.0</td>\n",
       "      <td>6.0</td>\n",
       "      <td>11.0</td>\n",
       "      <td>6.000000</td>\n",
       "      <td>16.00</td>\n",
       "    </tr>\n",
       "    <tr>\n",
       "      <th>LOAN_DLQ_NUM</th>\n",
       "      <td>2.0</td>\n",
       "      <td>1.0</td>\n",
       "      <td>0.0</td>\n",
       "      <td>3.000000</td>\n",
       "      <td>2.00</td>\n",
       "    </tr>\n",
       "    <tr>\n",
       "      <th>LOAN_MAX_DLQ</th>\n",
       "      <td>1.0</td>\n",
       "      <td>1.0</td>\n",
       "      <td>0.0</td>\n",
       "      <td>1.000000</td>\n",
       "      <td>1.00</td>\n",
       "    </tr>\n",
       "    <tr>\n",
       "      <th>LOAN_AVG_DLQ_AMT</th>\n",
       "      <td>1580.0</td>\n",
       "      <td>4020.0</td>\n",
       "      <td>0.0</td>\n",
       "      <td>1589.923333</td>\n",
       "      <td>1152.15</td>\n",
       "    </tr>\n",
       "    <tr>\n",
       "      <th>LOAN_MAX_DLQ_AMT</th>\n",
       "      <td>1580.0</td>\n",
       "      <td>4020.0</td>\n",
       "      <td>0.0</td>\n",
       "      <td>1590.000000</td>\n",
       "      <td>2230.00</td>\n",
       "    </tr>\n",
       "    <tr>\n",
       "      <th>PREVIOUS_CARD_NUM_UTILIZED</th>\n",
       "      <td>0.0</td>\n",
       "      <td>0.0</td>\n",
       "      <td>0.0</td>\n",
       "      <td>0.000000</td>\n",
       "      <td>0.00</td>\n",
       "    </tr>\n",
       "    <tr>\n",
       "      <th>active</th>\n",
       "      <td>0.0</td>\n",
       "      <td>0.0</td>\n",
       "      <td>0.0</td>\n",
       "      <td>0.000000</td>\n",
       "      <td>0.00</td>\n",
       "    </tr>\n",
       "  </tbody>\n",
       "</table>\n",
       "</div>"
      ],
      "text/plain": [
       "                                 0        1        2             3         4\n",
       "AGE                           49.0     32.0     52.0     39.000000     30.00\n",
       "SOCSTATUS_WORK_FL              0.0      0.0      0.0      0.000000      0.00\n",
       "SOCSTATUS_PENS_FL              0.0      0.0      0.0      0.000000      0.00\n",
       "GENDER                         0.0      0.0      0.0      0.000000      1.00\n",
       "CHILD_TOTAL                    2.0      3.0      4.0      1.000000      0.00\n",
       "DEPENDANTS                     1.0      3.0      0.0      1.000000      0.00\n",
       "EDUCATION                      0.0      1.0      2.0      3.000000      1.00\n",
       "MARITAL_STATUS                 0.0      0.0      0.0      0.000000      0.00\n",
       "GEN_INDUSTRY                   0.0      0.0      1.0      2.000000      3.00\n",
       "GEN_TITLE                      0.0      0.0      1.0      2.000000      1.00\n",
       "ORG_TP_STATE                   0.0      1.0      2.0      2.000000      2.00\n",
       "ORG_TP_FCAPITAL                0.0      0.0      0.0      0.000000      0.00\n",
       "JOB_DIR                        0.0      1.0      1.0      1.000000      1.00\n",
       "FAMILY_INCOME                  3.0      3.0      3.0      4.000000      3.00\n",
       "PERSONAL_INCOME             5000.0  12000.0   9000.0  25000.000000  12000.00\n",
       "REG_ADDRESS_PROVINCE           0.0      1.0      2.0      3.000000      1.00\n",
       "FACT_ADDRESS_PROVINCE          0.0      1.0      2.0      3.000000      1.00\n",
       "POSTAL_ADDRESS_PROVINCE        0.0      1.0      2.0      3.000000      1.00\n",
       "TP_PROVINCE                    0.0      1.0      2.0      3.000000      1.00\n",
       "REGION_NM                      0.0      1.0      2.0      1.000000      1.00\n",
       "REG_FACT_FL                    1.0      1.0      1.0      0.000000      1.00\n",
       "FACT_POST_FL                   1.0      1.0      1.0      1.000000      1.00\n",
       "REG_POST_FL                    1.0      1.0      1.0      0.000000      1.00\n",
       "REG_FACT_POST_FL               1.0      1.0      1.0      0.000000      1.00\n",
       "REG_FACT_POST_TP_FL            1.0      0.0      1.0      1.000000      0.00\n",
       "FL_PRESENCE_FL                 0.0      0.0      0.0      1.000000      0.00\n",
       "OWN_AUTO                       0.0      0.0      0.0      0.000000      0.00\n",
       "AUTO_RUS_FL                    0.0      0.0      0.0      0.000000      0.00\n",
       "HS_PRESENCE_FL                 0.0      0.0      1.0      0.000000      1.00\n",
       "COT_PRESENCE_FL                0.0      0.0      0.0      0.000000      0.00\n",
       "GAR_PRESENCE_FL                0.0      0.0      0.0      0.000000      0.00\n",
       "LAND_PRESENCE_FL               0.0      0.0      0.0      0.000000      0.00\n",
       "CREDIT                      8000.0  21650.0  33126.0   8491.820000  21990.00\n",
       "TERM                           6.0      6.0     12.0      6.000000     12.00\n",
       "FST_PAYMENT                 8650.0   4000.0   4000.0   5000.000000   4000.00\n",
       "DL_DOCUMENT_FL                 0.0      0.0      0.0      0.000000      0.00\n",
       "GPF_DOCUMENT_FL                1.0      1.0      1.0      0.000000      1.00\n",
       "FACT_LIVING_TERM             220.0    137.0    251.0     36.000000     83.00\n",
       "WORK_TIME                     18.0     97.0     84.0    168.000000    101.00\n",
       "FACT_PHONE_FL                  0.0      1.0      0.0      1.000000      1.00\n",
       "REG_PHONE_FL                   0.0      0.0      0.0      1.000000      0.00\n",
       "GEN_PHONE_FL                   1.0      1.0      1.0      1.000000      1.00\n",
       "LOAN_NUM_TOTAL                 1.0      1.0      2.0      1.000000      2.00\n",
       "LOAN_NUM_CLOSED                1.0      1.0      1.0      1.000000      1.00\n",
       "LOAN_NUM_PAYM                  6.0      6.0     11.0      6.000000     16.00\n",
       "LOAN_DLQ_NUM                   2.0      1.0      0.0      3.000000      2.00\n",
       "LOAN_MAX_DLQ                   1.0      1.0      0.0      1.000000      1.00\n",
       "LOAN_AVG_DLQ_AMT            1580.0   4020.0      0.0   1589.923333   1152.15\n",
       "LOAN_MAX_DLQ_AMT            1580.0   4020.0      0.0   1590.000000   2230.00\n",
       "PREVIOUS_CARD_NUM_UTILIZED     0.0      0.0      0.0      0.000000      0.00\n",
       "active                         0.0      0.0      0.0      0.000000      0.00"
      ]
     },
     "execution_count": 6,
     "metadata": {},
     "output_type": "execute_result"
    }
   ],
   "source": [
    "df.head().T"
   ]
  },
  {
   "cell_type": "code",
   "execution_count": 7,
   "metadata": {
    "pycharm": {
     "is_executing": true
    }
   },
   "outputs": [
    {
     "data": {
      "text/plain": [
       "<AxesSubplot:>"
      ]
     },
     "execution_count": 7,
     "metadata": {},
     "output_type": "execute_result"
    },
    {
     "data": {
      "image/png": "[encoded data removed]",
      "text/plain": [
       "<Figure size 864x576 with 1 Axes>"
      ]
     },
     "metadata": {},
     "output_type": "display_data"
    }
   ],
   "source": [
    "df.boxplot('CREDIT')"
   ]
  },
  {
   "cell_type": "code",
   "execution_count": 8,
   "metadata": {
    "pycharm": {
     "is_executing": true
    }
   },
   "outputs": [
    {
     "data": {
      "image/png": "[encoded data removed]",
      "text/plain": [
       "<Figure size 864x576 with 1 Axes>"
      ]
     },
     "metadata": {},
     "output_type": "display_data"
    }
   ],
   "source": [
    "df.boxplot(column='CREDIT', by='EDUCATION');"
   ]
  },
  {
   "cell_type": "code",
   "execution_count": 9,
   "metadata": {
    "pycharm": {
     "is_executing": true
    }
   },
   "outputs": [
    {
     "data": {
      "image/png": "[encoded data removed]",
      "text/plain": [
       "<Figure size 864x576 with 1 Axes>"
      ]
     },
     "metadata": {},
     "output_type": "display_data"
    }
   ],
   "source": [
    "df.hist('CREDIT', bins=20);"
   ]
  },
  {
   "cell_type": "markdown",
   "metadata": {
    "collapsed": true
   },
   "source": [
    "## Методы, основанные на плотности и расстоянии"
   ]
  },
  {
   "cell_type": "markdown",
   "metadata": {
    "collapsed": true
   },
   "source": [
    "**Предположение 1**: Аномальные объекты расположены далеко от остальных объектов\n",
    "* Считаем расстояние до k-го ближайшего соседа\n",
    "\n",
    "**Предположение 2**: Аномальные объекты расположены в разреженых областях\n",
    "* Считаем \"плотность\" вокруг каждого объекта как обратное от среднего расстояние до $k$ ближайших соседей:\n",
    "$$ density_k(a) = 1 \\Biggm/ \\left(\\frac{\\sum\\limits_{b\\in N_k(a)} d(a, b)}{|N_k(a)|} \\right)$$"
   ]
  },
  {
   "cell_type": "code",
   "execution_count": 10,
   "metadata": {
    "pycharm": {
     "is_executing": true
    }
   },
   "outputs": [],
   "source": [
    "from sklearn.neighbors import NearestNeighbors\n",
    "from sklearn.preprocessing import StandardScaler, RobustScaler"
   ]
  },
  {
   "cell_type": "code",
   "execution_count": 11,
   "metadata": {
    "pycharm": {
     "is_executing": true
    }
   },
   "outputs": [],
   "source": [
    "cols = ['AGE', 'GENDER', 'FAMILY_INCOME', 'CHILD_TOTAL', 'PERSONAL_INCOME', 'DEPENDANTS',\n",
    "        'REG_FACT_FL', u'FACT_POST_FL', u'REG_POST_FL', u'REG_FACT_POST_FL',\n",
    "        u'REG_FACT_POST_TP_FL', u'FL_PRESENCE_FL',\n",
    "        u'OWN_AUTO', u'AUTO_RUS_FL', u'HS_PRESENCE_FL', u'COT_PRESENCE_FL',\n",
    "        u'GAR_PRESENCE_FL', u'LAND_PRESENCE_FL',\n",
    "        u'CREDIT', 'FST_PAYMENT']"
   ]
  },
  {
   "cell_type": "code",
   "execution_count": 12,
   "metadata": {
    "pycharm": {
     "is_executing": true
    }
   },
   "outputs": [],
   "source": [
    "X = df.loc[:, cols].values"
   ]
  },
  {
   "cell_type": "code",
   "execution_count": 13,
   "metadata": {
    "pycharm": {
     "is_executing": true
    }
   },
   "outputs": [],
   "source": [
    "scaler = RobustScaler()\n",
    "X_ = scaler.fit_transform(X)"
   ]
  },
  {
   "cell_type": "code",
   "execution_count": 14,
   "metadata": {
    "pycharm": {
     "is_executing": true
    }
   },
   "outputs": [
    {
     "data": {
      "text/plain": [
       "NearestNeighbors(n_neighbors=21)"
      ]
     },
     "execution_count": 14,
     "metadata": {},
     "output_type": "execute_result"
    }
   ],
   "source": [
    "k = 20\n",
    "model = NearestNeighbors(n_neighbors=(k+1))\n",
    "model.fit(X_)"
   ]
  },
  {
   "cell_type": "code",
   "execution_count": 15,
   "metadata": {
    "pycharm": {
     "is_executing": true
    }
   },
   "outputs": [
    {
     "ename": "MemoryError",
     "evalue": "Unable to allocate 1.00 GiB for an array with shape (8816, 15223) and data type float64",
     "output_type": "error",
     "traceback": [
      "\u001B[1;31m---------------------------------------------------------------------------\u001B[0m",
      "\u001B[1;31mMemoryError\u001B[0m                               Traceback (most recent call last)",
      "\u001B[1;32m<ipython-input-15-f89b939a304b>\u001B[0m in \u001B[0;36m<module>\u001B[1;34m\u001B[0m\n\u001B[1;32m----> 1\u001B[1;33m \u001B[0md\u001B[0m\u001B[1;33m,\u001B[0m \u001B[0mind\u001B[0m \u001B[1;33m=\u001B[0m \u001B[0mmodel\u001B[0m\u001B[1;33m.\u001B[0m\u001B[0mkneighbors\u001B[0m\u001B[1;33m(\u001B[0m\u001B[0mX_\u001B[0m\u001B[1;33m,\u001B[0m \u001B[0mn_neighbors\u001B[0m\u001B[1;33m=\u001B[0m\u001B[1;33m(\u001B[0m\u001B[0mk\u001B[0m\u001B[1;33m+\u001B[0m\u001B[1;36m1\u001B[0m\u001B[1;33m)\u001B[0m\u001B[1;33m,\u001B[0m \u001B[1;33m)\u001B[0m\u001B[1;33m\u001B[0m\u001B[1;33m\u001B[0m\u001B[0m\n\u001B[0m",
      "\u001B[1;32mp:\\wd\\old\\py\\skill_factory\\venv\\lib\\site-packages\\sklearn\\neighbors\\_base.py\u001B[0m in \u001B[0;36mkneighbors\u001B[1;34m(self, X, n_neighbors, return_distance)\u001B[0m\n\u001B[0;32m    703\u001B[0m                 \u001B[0mkwds\u001B[0m \u001B[1;33m=\u001B[0m \u001B[0mself\u001B[0m\u001B[1;33m.\u001B[0m\u001B[0meffective_metric_params_\u001B[0m\u001B[1;33m\u001B[0m\u001B[1;33m\u001B[0m\u001B[0m\n\u001B[0;32m    704\u001B[0m \u001B[1;33m\u001B[0m\u001B[0m\n\u001B[1;32m--> 705\u001B[1;33m             chunked_results = list(pairwise_distances_chunked(\n\u001B[0m\u001B[0;32m    706\u001B[0m                 \u001B[0mX\u001B[0m\u001B[1;33m,\u001B[0m \u001B[0mself\u001B[0m\u001B[1;33m.\u001B[0m\u001B[0m_fit_X\u001B[0m\u001B[1;33m,\u001B[0m \u001B[0mreduce_func\u001B[0m\u001B[1;33m=\u001B[0m\u001B[0mreduce_func\u001B[0m\u001B[1;33m,\u001B[0m\u001B[1;33m\u001B[0m\u001B[1;33m\u001B[0m\u001B[0m\n\u001B[0;32m    707\u001B[0m                 \u001B[0mmetric\u001B[0m\u001B[1;33m=\u001B[0m\u001B[0mself\u001B[0m\u001B[1;33m.\u001B[0m\u001B[0meffective_metric_\u001B[0m\u001B[1;33m,\u001B[0m \u001B[0mn_jobs\u001B[0m\u001B[1;33m=\u001B[0m\u001B[0mn_jobs\u001B[0m\u001B[1;33m,\u001B[0m\u001B[1;33m\u001B[0m\u001B[1;33m\u001B[0m\u001B[0m\n",
      "\u001B[1;32mp:\\wd\\old\\py\\skill_factory\\venv\\lib\\site-packages\\sklearn\\metrics\\pairwise.py\u001B[0m in \u001B[0;36mpairwise_distances_chunked\u001B[1;34m(X, Y, reduce_func, metric, n_jobs, working_memory, **kwds)\u001B[0m\n\u001B[0;32m   1621\u001B[0m         \u001B[1;32melse\u001B[0m\u001B[1;33m:\u001B[0m\u001B[1;33m\u001B[0m\u001B[1;33m\u001B[0m\u001B[0m\n\u001B[0;32m   1622\u001B[0m             \u001B[0mX_chunk\u001B[0m \u001B[1;33m=\u001B[0m \u001B[0mX\u001B[0m\u001B[1;33m[\u001B[0m\u001B[0msl\u001B[0m\u001B[1;33m]\u001B[0m\u001B[1;33m\u001B[0m\u001B[1;33m\u001B[0m\u001B[0m\n\u001B[1;32m-> 1623\u001B[1;33m         D_chunk = pairwise_distances(X_chunk, Y, metric=metric,\n\u001B[0m\u001B[0;32m   1624\u001B[0m                                      n_jobs=n_jobs, **kwds)\n\u001B[0;32m   1625\u001B[0m         if ((X is Y or Y is None)\n",
      "\u001B[1;32mp:\\wd\\old\\py\\skill_factory\\venv\\lib\\site-packages\\sklearn\\utils\\validation.py\u001B[0m in \u001B[0;36minner_f\u001B[1;34m(*args, **kwargs)\u001B[0m\n\u001B[0;32m     61\u001B[0m             \u001B[0mextra_args\u001B[0m \u001B[1;33m=\u001B[0m \u001B[0mlen\u001B[0m\u001B[1;33m(\u001B[0m\u001B[0margs\u001B[0m\u001B[1;33m)\u001B[0m \u001B[1;33m-\u001B[0m \u001B[0mlen\u001B[0m\u001B[1;33m(\u001B[0m\u001B[0mall_args\u001B[0m\u001B[1;33m)\u001B[0m\u001B[1;33m\u001B[0m\u001B[1;33m\u001B[0m\u001B[0m\n\u001B[0;32m     62\u001B[0m             \u001B[1;32mif\u001B[0m \u001B[0mextra_args\u001B[0m \u001B[1;33m<=\u001B[0m \u001B[1;36m0\u001B[0m\u001B[1;33m:\u001B[0m\u001B[1;33m\u001B[0m\u001B[1;33m\u001B[0m\u001B[0m\n\u001B[1;32m---> 63\u001B[1;33m                 \u001B[1;32mreturn\u001B[0m \u001B[0mf\u001B[0m\u001B[1;33m(\u001B[0m\u001B[1;33m*\u001B[0m\u001B[0margs\u001B[0m\u001B[1;33m,\u001B[0m \u001B[1;33m**\u001B[0m\u001B[0mkwargs\u001B[0m\u001B[1;33m)\u001B[0m\u001B[1;33m\u001B[0m\u001B[1;33m\u001B[0m\u001B[0m\n\u001B[0m\u001B[0;32m     64\u001B[0m \u001B[1;33m\u001B[0m\u001B[0m\n\u001B[0;32m     65\u001B[0m             \u001B[1;31m# extra_args > 0\u001B[0m\u001B[1;33m\u001B[0m\u001B[1;33m\u001B[0m\u001B[1;33m\u001B[0m\u001B[0m\n",
      "\u001B[1;32mp:\\wd\\old\\py\\skill_factory\\venv\\lib\\site-packages\\sklearn\\metrics\\pairwise.py\u001B[0m in \u001B[0;36mpairwise_distances\u001B[1;34m(X, Y, metric, n_jobs, force_all_finite, **kwds)\u001B[0m\n\u001B[0;32m   1788\u001B[0m         \u001B[0mfunc\u001B[0m \u001B[1;33m=\u001B[0m \u001B[0mpartial\u001B[0m\u001B[1;33m(\u001B[0m\u001B[0mdistance\u001B[0m\u001B[1;33m.\u001B[0m\u001B[0mcdist\u001B[0m\u001B[1;33m,\u001B[0m \u001B[0mmetric\u001B[0m\u001B[1;33m=\u001B[0m\u001B[0mmetric\u001B[0m\u001B[1;33m,\u001B[0m \u001B[1;33m**\u001B[0m\u001B[0mkwds\u001B[0m\u001B[1;33m)\u001B[0m\u001B[1;33m\u001B[0m\u001B[1;33m\u001B[0m\u001B[0m\n\u001B[0;32m   1789\u001B[0m \u001B[1;33m\u001B[0m\u001B[0m\n\u001B[1;32m-> 1790\u001B[1;33m     \u001B[1;32mreturn\u001B[0m \u001B[0m_parallel_pairwise\u001B[0m\u001B[1;33m(\u001B[0m\u001B[0mX\u001B[0m\u001B[1;33m,\u001B[0m \u001B[0mY\u001B[0m\u001B[1;33m,\u001B[0m \u001B[0mfunc\u001B[0m\u001B[1;33m,\u001B[0m \u001B[0mn_jobs\u001B[0m\u001B[1;33m,\u001B[0m \u001B[1;33m**\u001B[0m\u001B[0mkwds\u001B[0m\u001B[1;33m)\u001B[0m\u001B[1;33m\u001B[0m\u001B[1;33m\u001B[0m\u001B[0m\n\u001B[0m\u001B[0;32m   1791\u001B[0m \u001B[1;33m\u001B[0m\u001B[0m\n\u001B[0;32m   1792\u001B[0m \u001B[1;33m\u001B[0m\u001B[0m\n",
      "\u001B[1;32mp:\\wd\\old\\py\\skill_factory\\venv\\lib\\site-packages\\sklearn\\metrics\\pairwise.py\u001B[0m in \u001B[0;36m_parallel_pairwise\u001B[1;34m(X, Y, func, n_jobs, **kwds)\u001B[0m\n\u001B[0;32m   1357\u001B[0m \u001B[1;33m\u001B[0m\u001B[0m\n\u001B[0;32m   1358\u001B[0m     \u001B[1;32mif\u001B[0m \u001B[0meffective_n_jobs\u001B[0m\u001B[1;33m(\u001B[0m\u001B[0mn_jobs\u001B[0m\u001B[1;33m)\u001B[0m \u001B[1;33m==\u001B[0m \u001B[1;36m1\u001B[0m\u001B[1;33m:\u001B[0m\u001B[1;33m\u001B[0m\u001B[1;33m\u001B[0m\u001B[0m\n\u001B[1;32m-> 1359\u001B[1;33m         \u001B[1;32mreturn\u001B[0m \u001B[0mfunc\u001B[0m\u001B[1;33m(\u001B[0m\u001B[0mX\u001B[0m\u001B[1;33m,\u001B[0m \u001B[0mY\u001B[0m\u001B[1;33m,\u001B[0m \u001B[1;33m**\u001B[0m\u001B[0mkwds\u001B[0m\u001B[1;33m)\u001B[0m\u001B[1;33m\u001B[0m\u001B[1;33m\u001B[0m\u001B[0m\n\u001B[0m\u001B[0;32m   1360\u001B[0m \u001B[1;33m\u001B[0m\u001B[0m\n\u001B[0;32m   1361\u001B[0m     \u001B[1;31m# enforce a threading backend to prevent data communication overhead\u001B[0m\u001B[1;33m\u001B[0m\u001B[1;33m\u001B[0m\u001B[1;33m\u001B[0m\u001B[0m\n",
      "\u001B[1;32mp:\\wd\\old\\py\\skill_factory\\venv\\lib\\site-packages\\sklearn\\utils\\validation.py\u001B[0m in \u001B[0;36minner_f\u001B[1;34m(*args, **kwargs)\u001B[0m\n\u001B[0;32m     61\u001B[0m             \u001B[0mextra_args\u001B[0m \u001B[1;33m=\u001B[0m \u001B[0mlen\u001B[0m\u001B[1;33m(\u001B[0m\u001B[0margs\u001B[0m\u001B[1;33m)\u001B[0m \u001B[1;33m-\u001B[0m \u001B[0mlen\u001B[0m\u001B[1;33m(\u001B[0m\u001B[0mall_args\u001B[0m\u001B[1;33m)\u001B[0m\u001B[1;33m\u001B[0m\u001B[1;33m\u001B[0m\u001B[0m\n\u001B[0;32m     62\u001B[0m             \u001B[1;32mif\u001B[0m \u001B[0mextra_args\u001B[0m \u001B[1;33m<=\u001B[0m \u001B[1;36m0\u001B[0m\u001B[1;33m:\u001B[0m\u001B[1;33m\u001B[0m\u001B[1;33m\u001B[0m\u001B[0m\n\u001B[1;32m---> 63\u001B[1;33m                 \u001B[1;32mreturn\u001B[0m \u001B[0mf\u001B[0m\u001B[1;33m(\u001B[0m\u001B[1;33m*\u001B[0m\u001B[0margs\u001B[0m\u001B[1;33m,\u001B[0m \u001B[1;33m**\u001B[0m\u001B[0mkwargs\u001B[0m\u001B[1;33m)\u001B[0m\u001B[1;33m\u001B[0m\u001B[1;33m\u001B[0m\u001B[0m\n\u001B[0m\u001B[0;32m     64\u001B[0m \u001B[1;33m\u001B[0m\u001B[0m\n\u001B[0;32m     65\u001B[0m             \u001B[1;31m# extra_args > 0\u001B[0m\u001B[1;33m\u001B[0m\u001B[1;33m\u001B[0m\u001B[1;33m\u001B[0m\u001B[0m\n",
      "\u001B[1;32mp:\\wd\\old\\py\\skill_factory\\venv\\lib\\site-packages\\sklearn\\metrics\\pairwise.py\u001B[0m in \u001B[0;36meuclidean_distances\u001B[1;34m(X, Y, Y_norm_squared, squared, X_norm_squared)\u001B[0m\n\u001B[0;32m    311\u001B[0m     \u001B[1;32melse\u001B[0m\u001B[1;33m:\u001B[0m\u001B[1;33m\u001B[0m\u001B[1;33m\u001B[0m\u001B[0m\n\u001B[0;32m    312\u001B[0m         \u001B[1;31m# if dtype is already float64, no need to chunk and upcast\u001B[0m\u001B[1;33m\u001B[0m\u001B[1;33m\u001B[0m\u001B[1;33m\u001B[0m\u001B[0m\n\u001B[1;32m--> 313\u001B[1;33m         \u001B[0mdistances\u001B[0m \u001B[1;33m=\u001B[0m \u001B[1;33m-\u001B[0m \u001B[1;36m2\u001B[0m \u001B[1;33m*\u001B[0m \u001B[0msafe_sparse_dot\u001B[0m\u001B[1;33m(\u001B[0m\u001B[0mX\u001B[0m\u001B[1;33m,\u001B[0m \u001B[0mY\u001B[0m\u001B[1;33m.\u001B[0m\u001B[0mT\u001B[0m\u001B[1;33m,\u001B[0m \u001B[0mdense_output\u001B[0m\u001B[1;33m=\u001B[0m\u001B[1;32mTrue\u001B[0m\u001B[1;33m)\u001B[0m\u001B[1;33m\u001B[0m\u001B[1;33m\u001B[0m\u001B[0m\n\u001B[0m\u001B[0;32m    314\u001B[0m         \u001B[0mdistances\u001B[0m \u001B[1;33m+=\u001B[0m \u001B[0mXX\u001B[0m\u001B[1;33m\u001B[0m\u001B[1;33m\u001B[0m\u001B[0m\n\u001B[0;32m    315\u001B[0m         \u001B[0mdistances\u001B[0m \u001B[1;33m+=\u001B[0m \u001B[0mYY\u001B[0m\u001B[1;33m\u001B[0m\u001B[1;33m\u001B[0m\u001B[0m\n",
      "\u001B[1;32mp:\\wd\\old\\py\\skill_factory\\venv\\lib\\site-packages\\sklearn\\utils\\validation.py\u001B[0m in \u001B[0;36minner_f\u001B[1;34m(*args, **kwargs)\u001B[0m\n\u001B[0;32m     61\u001B[0m             \u001B[0mextra_args\u001B[0m \u001B[1;33m=\u001B[0m \u001B[0mlen\u001B[0m\u001B[1;33m(\u001B[0m\u001B[0margs\u001B[0m\u001B[1;33m)\u001B[0m \u001B[1;33m-\u001B[0m \u001B[0mlen\u001B[0m\u001B[1;33m(\u001B[0m\u001B[0mall_args\u001B[0m\u001B[1;33m)\u001B[0m\u001B[1;33m\u001B[0m\u001B[1;33m\u001B[0m\u001B[0m\n\u001B[0;32m     62\u001B[0m             \u001B[1;32mif\u001B[0m \u001B[0mextra_args\u001B[0m \u001B[1;33m<=\u001B[0m \u001B[1;36m0\u001B[0m\u001B[1;33m:\u001B[0m\u001B[1;33m\u001B[0m\u001B[1;33m\u001B[0m\u001B[0m\n\u001B[1;32m---> 63\u001B[1;33m                 \u001B[1;32mreturn\u001B[0m \u001B[0mf\u001B[0m\u001B[1;33m(\u001B[0m\u001B[1;33m*\u001B[0m\u001B[0margs\u001B[0m\u001B[1;33m,\u001B[0m \u001B[1;33m**\u001B[0m\u001B[0mkwargs\u001B[0m\u001B[1;33m)\u001B[0m\u001B[1;33m\u001B[0m\u001B[1;33m\u001B[0m\u001B[0m\n\u001B[0m\u001B[0;32m     64\u001B[0m \u001B[1;33m\u001B[0m\u001B[0m\n\u001B[0;32m     65\u001B[0m             \u001B[1;31m# extra_args > 0\u001B[0m\u001B[1;33m\u001B[0m\u001B[1;33m\u001B[0m\u001B[1;33m\u001B[0m\u001B[0m\n",
      "\u001B[1;32mp:\\wd\\old\\py\\skill_factory\\venv\\lib\\site-packages\\sklearn\\utils\\extmath.py\u001B[0m in \u001B[0;36msafe_sparse_dot\u001B[1;34m(a, b, dense_output)\u001B[0m\n\u001B[0;32m    150\u001B[0m             \u001B[0mret\u001B[0m \u001B[1;33m=\u001B[0m \u001B[0mnp\u001B[0m\u001B[1;33m.\u001B[0m\u001B[0mdot\u001B[0m\u001B[1;33m(\u001B[0m\u001B[0ma\u001B[0m\u001B[1;33m,\u001B[0m \u001B[0mb\u001B[0m\u001B[1;33m)\u001B[0m\u001B[1;33m\u001B[0m\u001B[1;33m\u001B[0m\u001B[0m\n\u001B[0;32m    151\u001B[0m     \u001B[1;32melse\u001B[0m\u001B[1;33m:\u001B[0m\u001B[1;33m\u001B[0m\u001B[1;33m\u001B[0m\u001B[0m\n\u001B[1;32m--> 152\u001B[1;33m         \u001B[0mret\u001B[0m \u001B[1;33m=\u001B[0m \u001B[0ma\u001B[0m \u001B[1;33m@\u001B[0m \u001B[0mb\u001B[0m\u001B[1;33m\u001B[0m\u001B[1;33m\u001B[0m\u001B[0m\n\u001B[0m\u001B[0;32m    153\u001B[0m \u001B[1;33m\u001B[0m\u001B[0m\n\u001B[0;32m    154\u001B[0m     if (sparse.issparse(a) and sparse.issparse(b)\n",
      "\u001B[1;31mMemoryError\u001B[0m: Unable to allocate 1.00 GiB for an array with shape (8816, 15223) and data type float64"
     ]
    }
   ],
   "source": [
    "d, ind = model.kneighbors(X_, n_neighbors=(k+1), )"
   ]
  },
  {
   "cell_type": "code",
   "execution_count": null,
   "metadata": {
    "pycharm": {
     "is_executing": true
    }
   },
   "outputs": [],
   "source": [
    "d.shape"
   ]
  },
  {
   "cell_type": "code",
   "execution_count": null,
   "metadata": {
    "pycharm": {
     "is_executing": true
    }
   },
   "outputs": [],
   "source": [
    "ind.shape"
   ]
  },
  {
   "cell_type": "code",
   "execution_count": null,
   "metadata": {
    "pycharm": {
     "is_executing": true
    }
   },
   "outputs": [],
   "source": [
    "density = 1./(d[:, 1:].mean(axis=1) + 0.0001)"
   ]
  },
  {
   "cell_type": "code",
   "execution_count": null,
   "metadata": {
    "pycharm": {
     "is_executing": true
    }
   },
   "outputs": [],
   "source": [
    "density.shape"
   ]
  },
  {
   "cell_type": "code",
   "execution_count": null,
   "metadata": {
    "pycharm": {
     "is_executing": true
    }
   },
   "outputs": [],
   "source": [
    "plt.hist(density)"
   ]
  },
  {
   "cell_type": "code",
   "execution_count": null,
   "metadata": {
    "pycharm": {
     "is_executing": true
    }
   },
   "outputs": [],
   "source": [
    "thresh = 0.2"
   ]
  },
  {
   "cell_type": "code",
   "execution_count": null,
   "metadata": {
    "pycharm": {
     "is_executing": true
    }
   },
   "outputs": [],
   "source": [
    "idx = density < thresh"
   ]
  },
  {
   "cell_type": "code",
   "execution_count": null,
   "metadata": {
    "pycharm": {
     "is_executing": true
    },
    "scrolled": false
   },
   "outputs": [],
   "source": [
    "df.loc[~idx, :].mean() - df.loc[idx, :].mean()"
   ]
  },
  {
   "cell_type": "markdown",
   "metadata": {},
   "source": [
    "### Local Outlier Factor\n",
    "* Идея: давайте сравнивать плотность объектов с плотностями их $k$ ближайших соседей\n",
    "* Чтобы повысить стабильность в условии разной плотности будет считать reachability-distance:\n",
    "$$ \\text{reachability-distance}_k(a, b) = \\max\\left(k-\\text{distance}(a), d(a,b) \\right)$$\n",
    "<center><img src='https://upload.wikimedia.org/wikipedia/commons/thumb/6/6f/Reachability-distance.svg/250px-Reachability-distance.svg.png' width=300></center>\n",
    "* Считаем плотность - local reachability density:\n",
    "$$ lrd(a) = 1 \\Biggm/ \\left(\\frac{\\sum\\limits_{b\\in N_k(a)} \\text{reachability-distance}_k(a, b)}{|N_k(a)|} \\right)$$\n",
    "* Сравнивам с соседями:\n",
    "$$LOF_k(a) = \\frac{1}{|N_k(a)|}\\sum\\limits_{b\\in N_k(a)}\\frac{lrd(b)}{lrd(a)}$$"
   ]
  },
  {
   "cell_type": "code",
   "execution_count": 32,
   "metadata": {
    "pycharm": {
     "is_executing": true
    }
   },
   "outputs": [],
   "source": [
    "from sklearn.neighbors import LocalOutlierFactor"
   ]
  },
  {
   "cell_type": "code",
   "execution_count": 33,
   "metadata": {
    "pycharm": {
     "is_executing": true
    }
   },
   "outputs": [],
   "source": [
    "cols = ['AGE', 'GENDER', 'FAMILY_INCOME', 'CHILD_TOTAL', 'PERSONAL_INCOME', 'DEPENDANTS',\n",
    "        'REG_FACT_FL', u'FACT_POST_FL', u'REG_POST_FL', u'REG_FACT_POST_FL',\n",
    "        u'REG_FACT_POST_TP_FL', u'FL_PRESENCE_FL',\n",
    "        u'OWN_AUTO', u'AUTO_RUS_FL', u'HS_PRESENCE_FL', u'COT_PRESENCE_FL',\n",
    "        u'GAR_PRESENCE_FL', u'LAND_PRESENCE_FL',\n",
    "        u'CREDIT', 'FST_PAYMENT']\n"
   ]
  },
  {
   "cell_type": "code",
   "execution_count": 34,
   "metadata": {
    "pycharm": {
     "is_executing": true
    }
   },
   "outputs": [],
   "source": [
    "X = df.loc[:, cols].values"
   ]
  },
  {
   "cell_type": "code",
   "execution_count": 35,
   "metadata": {
    "pycharm": {
     "is_executing": true
    }
   },
   "outputs": [],
   "source": [
    "scaler = RobustScaler()\n",
    "X_ = scaler.fit_transform(X)"
   ]
  },
  {
   "cell_type": "code",
   "execution_count": 36,
   "metadata": {
    "pycharm": {
     "is_executing": true
    }
   },
   "outputs": [],
   "source": [
    "from sklearn.neighbors import LocalOutlierFactor"
   ]
  },
  {
   "cell_type": "code",
   "execution_count": 37,
   "metadata": {
    "pycharm": {
     "is_executing": true
    }
   },
   "outputs": [],
   "source": [
    "model = LocalOutlierFactor(n_neighbors=20, contamination=0.1)"
   ]
  },
  {
   "cell_type": "code",
   "execution_count": 38,
   "metadata": {
    "pycharm": {
     "is_executing": true
    }
   },
   "outputs": [
    {
     "data": {
      "text/plain": [
       "LocalOutlierFactor(contamination=0.1)"
      ]
     },
     "execution_count": 38,
     "metadata": {},
     "output_type": "execute_result"
    }
   ],
   "source": [
    "model.fit(X_)"
   ]
  },
  {
   "cell_type": "code",
   "execution_count": 39,
   "metadata": {
    "pycharm": {
     "is_executing": true
    }
   },
   "outputs": [
    {
     "ename": "AttributeError",
     "evalue": "'LocalOutlierFactor' object has no attribute 'threshold_'",
     "output_type": "error",
     "traceback": [
      "\u001B[1;31m---------------------------------------------------------------------------\u001B[0m",
      "\u001B[1;31mAttributeError\u001B[0m                            Traceback (most recent call last)",
      "\u001B[1;32m<ipython-input-39-a0c762c803ef>\u001B[0m in \u001B[0;36m<module>\u001B[1;34m\u001B[0m\n\u001B[1;32m----> 1\u001B[1;33m \u001B[0mmodel\u001B[0m\u001B[1;33m.\u001B[0m\u001B[0mthreshold_\u001B[0m\u001B[1;33m\u001B[0m\u001B[1;33m\u001B[0m\u001B[0m\n\u001B[0m",
      "\u001B[1;31mAttributeError\u001B[0m: 'LocalOutlierFactor' object has no attribute 'threshold_'"
     ]
    }
   ],
   "source": [
    "model.threshold_"
   ]
  },
  {
   "cell_type": "code",
   "execution_count": 40,
   "metadata": {
    "pycharm": {
     "is_executing": true
    }
   },
   "outputs": [],
   "source": [
    "lof = model.negative_outlier_factor_"
   ]
  },
  {
   "cell_type": "code",
   "execution_count": 41,
   "metadata": {
    "pycharm": {
     "is_executing": true
    }
   },
   "outputs": [
    {
     "ename": "AttributeError",
     "evalue": "'LocalOutlierFactor' object has no attribute 'threshold_'",
     "output_type": "error",
     "traceback": [
      "\u001B[1;31m---------------------------------------------------------------------------\u001B[0m",
      "\u001B[1;31mAttributeError\u001B[0m                            Traceback (most recent call last)",
      "\u001B[1;32m<ipython-input-41-4f20576ef433>\u001B[0m in \u001B[0;36m<module>\u001B[1;34m\u001B[0m\n\u001B[1;32m----> 1\u001B[1;33m \u001B[0mthreshold\u001B[0m \u001B[1;33m=\u001B[0m \u001B[0mmodel\u001B[0m\u001B[1;33m.\u001B[0m\u001B[0mthreshold_\u001B[0m\u001B[1;33m\u001B[0m\u001B[1;33m\u001B[0m\u001B[0m\n\u001B[0m",
      "\u001B[1;31mAttributeError\u001B[0m: 'LocalOutlierFactor' object has no attribute 'threshold_'"
     ]
    }
   ],
   "source": [
    "threshold = model.threshold_"
   ]
  },
  {
   "cell_type": "code",
   "execution_count": 42,
   "metadata": {
    "pycharm": {
     "is_executing": true
    }
   },
   "outputs": [
    {
     "ename": "NameError",
     "evalue": "name 'threshold' is not defined",
     "output_type": "error",
     "traceback": [
      "\u001B[1;31m---------------------------------------------------------------------------\u001B[0m",
      "\u001B[1;31mNameError\u001B[0m                                 Traceback (most recent call last)",
      "\u001B[1;32m<ipython-input-42-094fbbab1bf4>\u001B[0m in \u001B[0;36m<module>\u001B[1;34m\u001B[0m\n\u001B[1;32m----> 1\u001B[1;33m \u001B[0midx\u001B[0m \u001B[1;33m=\u001B[0m \u001B[0mlof\u001B[0m \u001B[1;33m<\u001B[0m \u001B[0mthreshold\u001B[0m\u001B[1;33m\u001B[0m\u001B[1;33m\u001B[0m\u001B[0m\n\u001B[0m",
      "\u001B[1;31mNameError\u001B[0m: name 'threshold' is not defined"
     ]
    }
   ],
   "source": [
    "idx = lof < threshold"
   ]
  },
  {
   "cell_type": "code",
   "execution_count": 43,
   "metadata": {
    "pycharm": {
     "is_executing": true
    }
   },
   "outputs": [
    {
     "data": {
      "text/plain": [
       "21"
      ]
     },
     "execution_count": 43,
     "metadata": {},
     "output_type": "execute_result"
    }
   ],
   "source": [
    "idx.sum()"
   ]
  },
  {
   "cell_type": "code",
   "execution_count": 44,
   "metadata": {
    "pycharm": {
     "is_executing": true
    },
    "scrolled": false
   },
   "outputs": [
    {
     "data": {
      "text/html": [
       "<div>\n",
       "<style scoped>\n",
       "    .dataframe tbody tr th:only-of-type {\n",
       "        vertical-align: middle;\n",
       "    }\n",
       "\n",
       "    .dataframe tbody tr th {\n",
       "        vertical-align: top;\n",
       "    }\n",
       "\n",
       "    .dataframe thead th {\n",
       "        text-align: right;\n",
       "    }\n",
       "</style>\n",
       "<table border=\"1\" class=\"dataframe\">\n",
       "  <thead>\n",
       "    <tr style=\"text-align: right;\">\n",
       "      <th></th>\n",
       "      <th>AGE</th>\n",
       "      <th>SOCSTATUS_WORK_FL</th>\n",
       "      <th>SOCSTATUS_PENS_FL</th>\n",
       "      <th>GENDER</th>\n",
       "      <th>CHILD_TOTAL</th>\n",
       "      <th>DEPENDANTS</th>\n",
       "      <th>EDUCATION</th>\n",
       "      <th>MARITAL_STATUS</th>\n",
       "      <th>GEN_INDUSTRY</th>\n",
       "      <th>GEN_TITLE</th>\n",
       "      <th>...</th>\n",
       "      <th>GEN_PHONE_FL</th>\n",
       "      <th>LOAN_NUM_TOTAL</th>\n",
       "      <th>LOAN_NUM_CLOSED</th>\n",
       "      <th>LOAN_NUM_PAYM</th>\n",
       "      <th>LOAN_DLQ_NUM</th>\n",
       "      <th>LOAN_MAX_DLQ</th>\n",
       "      <th>LOAN_AVG_DLQ_AMT</th>\n",
       "      <th>LOAN_MAX_DLQ_AMT</th>\n",
       "      <th>PREVIOUS_CARD_NUM_UTILIZED</th>\n",
       "      <th>active</th>\n",
       "    </tr>\n",
       "  </thead>\n",
       "  <tbody>\n",
       "    <tr>\n",
       "      <th>8</th>\n",
       "      <td>53</td>\n",
       "      <td>0</td>\n",
       "      <td>0</td>\n",
       "      <td>1</td>\n",
       "      <td>2</td>\n",
       "      <td>0</td>\n",
       "      <td>3</td>\n",
       "      <td>0</td>\n",
       "      <td>6.0</td>\n",
       "      <td>3.0</td>\n",
       "      <td>...</td>\n",
       "      <td>1</td>\n",
       "      <td>1</td>\n",
       "      <td>1</td>\n",
       "      <td>3</td>\n",
       "      <td>0</td>\n",
       "      <td>0</td>\n",
       "      <td>0.0</td>\n",
       "      <td>0.0</td>\n",
       "      <td>0.0</td>\n",
       "      <td>0</td>\n",
       "    </tr>\n",
       "    <tr>\n",
       "      <th>144</th>\n",
       "      <td>56</td>\n",
       "      <td>0</td>\n",
       "      <td>0</td>\n",
       "      <td>0</td>\n",
       "      <td>0</td>\n",
       "      <td>0</td>\n",
       "      <td>0</td>\n",
       "      <td>0</td>\n",
       "      <td>4.0</td>\n",
       "      <td>1.0</td>\n",
       "      <td>...</td>\n",
       "      <td>1</td>\n",
       "      <td>1</td>\n",
       "      <td>1</td>\n",
       "      <td>4</td>\n",
       "      <td>1</td>\n",
       "      <td>1</td>\n",
       "      <td>3520.0</td>\n",
       "      <td>3520.0</td>\n",
       "      <td>0.0</td>\n",
       "      <td>0</td>\n",
       "    </tr>\n",
       "    <tr>\n",
       "      <th>1871</th>\n",
       "      <td>64</td>\n",
       "      <td>0</td>\n",
       "      <td>0</td>\n",
       "      <td>1</td>\n",
       "      <td>0</td>\n",
       "      <td>0</td>\n",
       "      <td>3</td>\n",
       "      <td>0</td>\n",
       "      <td>22.0</td>\n",
       "      <td>2.0</td>\n",
       "      <td>...</td>\n",
       "      <td>1</td>\n",
       "      <td>1</td>\n",
       "      <td>1</td>\n",
       "      <td>1</td>\n",
       "      <td>0</td>\n",
       "      <td>0</td>\n",
       "      <td>0.0</td>\n",
       "      <td>0.0</td>\n",
       "      <td>0.0</td>\n",
       "      <td>0</td>\n",
       "    </tr>\n",
       "    <tr>\n",
       "      <th>2645</th>\n",
       "      <td>25</td>\n",
       "      <td>0</td>\n",
       "      <td>0</td>\n",
       "      <td>1</td>\n",
       "      <td>1</td>\n",
       "      <td>2</td>\n",
       "      <td>3</td>\n",
       "      <td>0</td>\n",
       "      <td>6.0</td>\n",
       "      <td>1.0</td>\n",
       "      <td>...</td>\n",
       "      <td>1</td>\n",
       "      <td>1</td>\n",
       "      <td>1</td>\n",
       "      <td>6</td>\n",
       "      <td>0</td>\n",
       "      <td>0</td>\n",
       "      <td>0.0</td>\n",
       "      <td>0.0</td>\n",
       "      <td>0.0</td>\n",
       "      <td>0</td>\n",
       "    </tr>\n",
       "    <tr>\n",
       "      <th>2726</th>\n",
       "      <td>53</td>\n",
       "      <td>0</td>\n",
       "      <td>0</td>\n",
       "      <td>1</td>\n",
       "      <td>2</td>\n",
       "      <td>0</td>\n",
       "      <td>0</td>\n",
       "      <td>0</td>\n",
       "      <td>7.0</td>\n",
       "      <td>1.0</td>\n",
       "      <td>...</td>\n",
       "      <td>1</td>\n",
       "      <td>1</td>\n",
       "      <td>0</td>\n",
       "      <td>6</td>\n",
       "      <td>0</td>\n",
       "      <td>0</td>\n",
       "      <td>0.0</td>\n",
       "      <td>0.0</td>\n",
       "      <td>0.0</td>\n",
       "      <td>0</td>\n",
       "    </tr>\n",
       "    <tr>\n",
       "      <th>3740</th>\n",
       "      <td>45</td>\n",
       "      <td>0</td>\n",
       "      <td>0</td>\n",
       "      <td>0</td>\n",
       "      <td>0</td>\n",
       "      <td>0</td>\n",
       "      <td>3</td>\n",
       "      <td>3</td>\n",
       "      <td>6.0</td>\n",
       "      <td>3.0</td>\n",
       "      <td>...</td>\n",
       "      <td>1</td>\n",
       "      <td>1</td>\n",
       "      <td>0</td>\n",
       "      <td>6</td>\n",
       "      <td>0</td>\n",
       "      <td>0</td>\n",
       "      <td>0.0</td>\n",
       "      <td>0.0</td>\n",
       "      <td>0.0</td>\n",
       "      <td>0</td>\n",
       "    </tr>\n",
       "    <tr>\n",
       "      <th>4124</th>\n",
       "      <td>51</td>\n",
       "      <td>0</td>\n",
       "      <td>0</td>\n",
       "      <td>1</td>\n",
       "      <td>0</td>\n",
       "      <td>0</td>\n",
       "      <td>1</td>\n",
       "      <td>0</td>\n",
       "      <td>7.0</td>\n",
       "      <td>0.0</td>\n",
       "      <td>...</td>\n",
       "      <td>1</td>\n",
       "      <td>1</td>\n",
       "      <td>1</td>\n",
       "      <td>3</td>\n",
       "      <td>0</td>\n",
       "      <td>0</td>\n",
       "      <td>0.0</td>\n",
       "      <td>0.0</td>\n",
       "      <td>0.0</td>\n",
       "      <td>0</td>\n",
       "    </tr>\n",
       "    <tr>\n",
       "      <th>4162</th>\n",
       "      <td>54</td>\n",
       "      <td>0</td>\n",
       "      <td>0</td>\n",
       "      <td>0</td>\n",
       "      <td>2</td>\n",
       "      <td>0</td>\n",
       "      <td>0</td>\n",
       "      <td>0</td>\n",
       "      <td>4.0</td>\n",
       "      <td>1.0</td>\n",
       "      <td>...</td>\n",
       "      <td>1</td>\n",
       "      <td>1</td>\n",
       "      <td>0</td>\n",
       "      <td>5</td>\n",
       "      <td>0</td>\n",
       "      <td>0</td>\n",
       "      <td>0.0</td>\n",
       "      <td>0.0</td>\n",
       "      <td>0.0</td>\n",
       "      <td>0</td>\n",
       "    </tr>\n",
       "    <tr>\n",
       "      <th>4711</th>\n",
       "      <td>33</td>\n",
       "      <td>0</td>\n",
       "      <td>0</td>\n",
       "      <td>0</td>\n",
       "      <td>1</td>\n",
       "      <td>1</td>\n",
       "      <td>3</td>\n",
       "      <td>0</td>\n",
       "      <td>0.0</td>\n",
       "      <td>6.0</td>\n",
       "      <td>...</td>\n",
       "      <td>1</td>\n",
       "      <td>1</td>\n",
       "      <td>0</td>\n",
       "      <td>5</td>\n",
       "      <td>0</td>\n",
       "      <td>0</td>\n",
       "      <td>0.0</td>\n",
       "      <td>0.0</td>\n",
       "      <td>0.0</td>\n",
       "      <td>1</td>\n",
       "    </tr>\n",
       "    <tr>\n",
       "      <th>4874</th>\n",
       "      <td>60</td>\n",
       "      <td>0</td>\n",
       "      <td>0</td>\n",
       "      <td>1</td>\n",
       "      <td>0</td>\n",
       "      <td>0</td>\n",
       "      <td>3</td>\n",
       "      <td>0</td>\n",
       "      <td>10.0</td>\n",
       "      <td>6.0</td>\n",
       "      <td>...</td>\n",
       "      <td>1</td>\n",
       "      <td>1</td>\n",
       "      <td>0</td>\n",
       "      <td>4</td>\n",
       "      <td>0</td>\n",
       "      <td>0</td>\n",
       "      <td>0.0</td>\n",
       "      <td>0.0</td>\n",
       "      <td>0.0</td>\n",
       "      <td>0</td>\n",
       "    </tr>\n",
       "    <tr>\n",
       "      <th>5312</th>\n",
       "      <td>53</td>\n",
       "      <td>0</td>\n",
       "      <td>1</td>\n",
       "      <td>0</td>\n",
       "      <td>0</td>\n",
       "      <td>0</td>\n",
       "      <td>3</td>\n",
       "      <td>0</td>\n",
       "      <td>4.0</td>\n",
       "      <td>1.0</td>\n",
       "      <td>...</td>\n",
       "      <td>1</td>\n",
       "      <td>1</td>\n",
       "      <td>0</td>\n",
       "      <td>4</td>\n",
       "      <td>0</td>\n",
       "      <td>0</td>\n",
       "      <td>0.0</td>\n",
       "      <td>0.0</td>\n",
       "      <td>0.0</td>\n",
       "      <td>0</td>\n",
       "    </tr>\n",
       "    <tr>\n",
       "      <th>6276</th>\n",
       "      <td>49</td>\n",
       "      <td>0</td>\n",
       "      <td>0</td>\n",
       "      <td>1</td>\n",
       "      <td>1</td>\n",
       "      <td>2</td>\n",
       "      <td>0</td>\n",
       "      <td>0</td>\n",
       "      <td>12.0</td>\n",
       "      <td>0.0</td>\n",
       "      <td>...</td>\n",
       "      <td>1</td>\n",
       "      <td>1</td>\n",
       "      <td>0</td>\n",
       "      <td>4</td>\n",
       "      <td>0</td>\n",
       "      <td>0</td>\n",
       "      <td>0.0</td>\n",
       "      <td>0.0</td>\n",
       "      <td>0.0</td>\n",
       "      <td>0</td>\n",
       "    </tr>\n",
       "    <tr>\n",
       "      <th>6424</th>\n",
       "      <td>40</td>\n",
       "      <td>0</td>\n",
       "      <td>0</td>\n",
       "      <td>0</td>\n",
       "      <td>1</td>\n",
       "      <td>1</td>\n",
       "      <td>0</td>\n",
       "      <td>2</td>\n",
       "      <td>0.0</td>\n",
       "      <td>7.0</td>\n",
       "      <td>...</td>\n",
       "      <td>1</td>\n",
       "      <td>1</td>\n",
       "      <td>1</td>\n",
       "      <td>3</td>\n",
       "      <td>0</td>\n",
       "      <td>0</td>\n",
       "      <td>0.0</td>\n",
       "      <td>0.0</td>\n",
       "      <td>0.0</td>\n",
       "      <td>0</td>\n",
       "    </tr>\n",
       "    <tr>\n",
       "      <th>7273</th>\n",
       "      <td>22</td>\n",
       "      <td>0</td>\n",
       "      <td>1</td>\n",
       "      <td>1</td>\n",
       "      <td>0</td>\n",
       "      <td>0</td>\n",
       "      <td>4</td>\n",
       "      <td>3</td>\n",
       "      <td>0.0</td>\n",
       "      <td>1.0</td>\n",
       "      <td>...</td>\n",
       "      <td>1</td>\n",
       "      <td>1</td>\n",
       "      <td>0</td>\n",
       "      <td>4</td>\n",
       "      <td>0</td>\n",
       "      <td>0</td>\n",
       "      <td>0.0</td>\n",
       "      <td>0.0</td>\n",
       "      <td>0.0</td>\n",
       "      <td>0</td>\n",
       "    </tr>\n",
       "    <tr>\n",
       "      <th>7494</th>\n",
       "      <td>31</td>\n",
       "      <td>0</td>\n",
       "      <td>0</td>\n",
       "      <td>1</td>\n",
       "      <td>1</td>\n",
       "      <td>1</td>\n",
       "      <td>3</td>\n",
       "      <td>0</td>\n",
       "      <td>3.0</td>\n",
       "      <td>6.0</td>\n",
       "      <td>...</td>\n",
       "      <td>1</td>\n",
       "      <td>1</td>\n",
       "      <td>0</td>\n",
       "      <td>2</td>\n",
       "      <td>0</td>\n",
       "      <td>0</td>\n",
       "      <td>0.0</td>\n",
       "      <td>0.0</td>\n",
       "      <td>0.0</td>\n",
       "      <td>0</td>\n",
       "    </tr>\n",
       "    <tr>\n",
       "      <th>9278</th>\n",
       "      <td>25</td>\n",
       "      <td>0</td>\n",
       "      <td>0</td>\n",
       "      <td>0</td>\n",
       "      <td>0</td>\n",
       "      <td>0</td>\n",
       "      <td>0</td>\n",
       "      <td>3</td>\n",
       "      <td>6.0</td>\n",
       "      <td>1.0</td>\n",
       "      <td>...</td>\n",
       "      <td>1</td>\n",
       "      <td>1</td>\n",
       "      <td>1</td>\n",
       "      <td>3</td>\n",
       "      <td>0</td>\n",
       "      <td>0</td>\n",
       "      <td>0.0</td>\n",
       "      <td>0.0</td>\n",
       "      <td>0.0</td>\n",
       "      <td>0</td>\n",
       "    </tr>\n",
       "    <tr>\n",
       "      <th>11374</th>\n",
       "      <td>52</td>\n",
       "      <td>1</td>\n",
       "      <td>1</td>\n",
       "      <td>0</td>\n",
       "      <td>0</td>\n",
       "      <td>0</td>\n",
       "      <td>0</td>\n",
       "      <td>3</td>\n",
       "      <td>NaN</td>\n",
       "      <td>NaN</td>\n",
       "      <td>...</td>\n",
       "      <td>0</td>\n",
       "      <td>2</td>\n",
       "      <td>2</td>\n",
       "      <td>7</td>\n",
       "      <td>0</td>\n",
       "      <td>0</td>\n",
       "      <td>0.0</td>\n",
       "      <td>0.0</td>\n",
       "      <td>0.0</td>\n",
       "      <td>0</td>\n",
       "    </tr>\n",
       "    <tr>\n",
       "      <th>11805</th>\n",
       "      <td>25</td>\n",
       "      <td>0</td>\n",
       "      <td>0</td>\n",
       "      <td>0</td>\n",
       "      <td>1</td>\n",
       "      <td>1</td>\n",
       "      <td>1</td>\n",
       "      <td>0</td>\n",
       "      <td>0.0</td>\n",
       "      <td>1.0</td>\n",
       "      <td>...</td>\n",
       "      <td>1</td>\n",
       "      <td>1</td>\n",
       "      <td>0</td>\n",
       "      <td>6</td>\n",
       "      <td>0</td>\n",
       "      <td>0</td>\n",
       "      <td>0.0</td>\n",
       "      <td>0.0</td>\n",
       "      <td>0.0</td>\n",
       "      <td>1</td>\n",
       "    </tr>\n",
       "    <tr>\n",
       "      <th>13664</th>\n",
       "      <td>50</td>\n",
       "      <td>0</td>\n",
       "      <td>0</td>\n",
       "      <td>0</td>\n",
       "      <td>0</td>\n",
       "      <td>0</td>\n",
       "      <td>3</td>\n",
       "      <td>2</td>\n",
       "      <td>23.0</td>\n",
       "      <td>3.0</td>\n",
       "      <td>...</td>\n",
       "      <td>1</td>\n",
       "      <td>1</td>\n",
       "      <td>0</td>\n",
       "      <td>5</td>\n",
       "      <td>0</td>\n",
       "      <td>0</td>\n",
       "      <td>0.0</td>\n",
       "      <td>0.0</td>\n",
       "      <td>0.0</td>\n",
       "      <td>0</td>\n",
       "    </tr>\n",
       "    <tr>\n",
       "      <th>14367</th>\n",
       "      <td>40</td>\n",
       "      <td>0</td>\n",
       "      <td>0</td>\n",
       "      <td>0</td>\n",
       "      <td>2</td>\n",
       "      <td>0</td>\n",
       "      <td>1</td>\n",
       "      <td>2</td>\n",
       "      <td>0.0</td>\n",
       "      <td>1.0</td>\n",
       "      <td>...</td>\n",
       "      <td>1</td>\n",
       "      <td>2</td>\n",
       "      <td>1</td>\n",
       "      <td>10</td>\n",
       "      <td>0</td>\n",
       "      <td>0</td>\n",
       "      <td>0.0</td>\n",
       "      <td>0.0</td>\n",
       "      <td>0.0</td>\n",
       "      <td>1</td>\n",
       "    </tr>\n",
       "    <tr>\n",
       "      <th>14781</th>\n",
       "      <td>55</td>\n",
       "      <td>0</td>\n",
       "      <td>0</td>\n",
       "      <td>1</td>\n",
       "      <td>0</td>\n",
       "      <td>0</td>\n",
       "      <td>3</td>\n",
       "      <td>0</td>\n",
       "      <td>14.0</td>\n",
       "      <td>2.0</td>\n",
       "      <td>...</td>\n",
       "      <td>1</td>\n",
       "      <td>1</td>\n",
       "      <td>1</td>\n",
       "      <td>1</td>\n",
       "      <td>0</td>\n",
       "      <td>0</td>\n",
       "      <td>0.0</td>\n",
       "      <td>0.0</td>\n",
       "      <td>0.0</td>\n",
       "      <td>0</td>\n",
       "    </tr>\n",
       "  </tbody>\n",
       "</table>\n",
       "<p>21 rows × 51 columns</p>\n",
       "</div>"
      ],
      "text/plain": [
       "       AGE  SOCSTATUS_WORK_FL  SOCSTATUS_PENS_FL  GENDER  CHILD_TOTAL  \\\n",
       "8       53                  0                  0       1            2   \n",
       "144     56                  0                  0       0            0   \n",
       "1871    64                  0                  0       1            0   \n",
       "2645    25                  0                  0       1            1   \n",
       "2726    53                  0                  0       1            2   \n",
       "3740    45                  0                  0       0            0   \n",
       "4124    51                  0                  0       1            0   \n",
       "4162    54                  0                  0       0            2   \n",
       "4711    33                  0                  0       0            1   \n",
       "4874    60                  0                  0       1            0   \n",
       "5312    53                  0                  1       0            0   \n",
       "6276    49                  0                  0       1            1   \n",
       "6424    40                  0                  0       0            1   \n",
       "7273    22                  0                  1       1            0   \n",
       "7494    31                  0                  0       1            1   \n",
       "9278    25                  0                  0       0            0   \n",
       "11374   52                  1                  1       0            0   \n",
       "11805   25                  0                  0       0            1   \n",
       "13664   50                  0                  0       0            0   \n",
       "14367   40                  0                  0       0            2   \n",
       "14781   55                  0                  0       1            0   \n",
       "\n",
       "       DEPENDANTS  EDUCATION  MARITAL_STATUS  GEN_INDUSTRY  GEN_TITLE  ...  \\\n",
       "8               0          3               0           6.0        3.0  ...   \n",
       "144             0          0               0           4.0        1.0  ...   \n",
       "1871            0          3               0          22.0        2.0  ...   \n",
       "2645            2          3               0           6.0        1.0  ...   \n",
       "2726            0          0               0           7.0        1.0  ...   \n",
       "3740            0          3               3           6.0        3.0  ...   \n",
       "4124            0          1               0           7.0        0.0  ...   \n",
       "4162            0          0               0           4.0        1.0  ...   \n",
       "4711            1          3               0           0.0        6.0  ...   \n",
       "4874            0          3               0          10.0        6.0  ...   \n",
       "5312            0          3               0           4.0        1.0  ...   \n",
       "6276            2          0               0          12.0        0.0  ...   \n",
       "6424            1          0               2           0.0        7.0  ...   \n",
       "7273            0          4               3           0.0        1.0  ...   \n",
       "7494            1          3               0           3.0        6.0  ...   \n",
       "9278            0          0               3           6.0        1.0  ...   \n",
       "11374           0          0               3           NaN        NaN  ...   \n",
       "11805           1          1               0           0.0        1.0  ...   \n",
       "13664           0          3               2          23.0        3.0  ...   \n",
       "14367           0          1               2           0.0        1.0  ...   \n",
       "14781           0          3               0          14.0        2.0  ...   \n",
       "\n",
       "       GEN_PHONE_FL  LOAN_NUM_TOTAL  LOAN_NUM_CLOSED  LOAN_NUM_PAYM  \\\n",
       "8                 1               1                1              3   \n",
       "144               1               1                1              4   \n",
       "1871              1               1                1              1   \n",
       "2645              1               1                1              6   \n",
       "2726              1               1                0              6   \n",
       "3740              1               1                0              6   \n",
       "4124              1               1                1              3   \n",
       "4162              1               1                0              5   \n",
       "4711              1               1                0              5   \n",
       "4874              1               1                0              4   \n",
       "5312              1               1                0              4   \n",
       "6276              1               1                0              4   \n",
       "6424              1               1                1              3   \n",
       "7273              1               1                0              4   \n",
       "7494              1               1                0              2   \n",
       "9278              1               1                1              3   \n",
       "11374             0               2                2              7   \n",
       "11805             1               1                0              6   \n",
       "13664             1               1                0              5   \n",
       "14367             1               2                1             10   \n",
       "14781             1               1                1              1   \n",
       "\n",
       "       LOAN_DLQ_NUM  LOAN_MAX_DLQ  LOAN_AVG_DLQ_AMT  LOAN_MAX_DLQ_AMT  \\\n",
       "8                 0             0               0.0               0.0   \n",
       "144               1             1            3520.0            3520.0   \n",
       "1871              0             0               0.0               0.0   \n",
       "2645              0             0               0.0               0.0   \n",
       "2726              0             0               0.0               0.0   \n",
       "3740              0             0               0.0               0.0   \n",
       "4124              0             0               0.0               0.0   \n",
       "4162              0             0               0.0               0.0   \n",
       "4711              0             0               0.0               0.0   \n",
       "4874              0             0               0.0               0.0   \n",
       "5312              0             0               0.0               0.0   \n",
       "6276              0             0               0.0               0.0   \n",
       "6424              0             0               0.0               0.0   \n",
       "7273              0             0               0.0               0.0   \n",
       "7494              0             0               0.0               0.0   \n",
       "9278              0             0               0.0               0.0   \n",
       "11374             0             0               0.0               0.0   \n",
       "11805             0             0               0.0               0.0   \n",
       "13664             0             0               0.0               0.0   \n",
       "14367             0             0               0.0               0.0   \n",
       "14781             0             0               0.0               0.0   \n",
       "\n",
       "       PREVIOUS_CARD_NUM_UTILIZED  active  \n",
       "8                             0.0       0  \n",
       "144                           0.0       0  \n",
       "1871                          0.0       0  \n",
       "2645                          0.0       0  \n",
       "2726                          0.0       0  \n",
       "3740                          0.0       0  \n",
       "4124                          0.0       0  \n",
       "4162                          0.0       0  \n",
       "4711                          0.0       1  \n",
       "4874                          0.0       0  \n",
       "5312                          0.0       0  \n",
       "6276                          0.0       0  \n",
       "6424                          0.0       0  \n",
       "7273                          0.0       0  \n",
       "7494                          0.0       0  \n",
       "9278                          0.0       0  \n",
       "11374                         0.0       0  \n",
       "11805                         0.0       1  \n",
       "13664                         0.0       0  \n",
       "14367                         0.0       1  \n",
       "14781                         0.0       0  \n",
       "\n",
       "[21 rows x 51 columns]"
      ]
     },
     "execution_count": 44,
     "metadata": {},
     "output_type": "execute_result"
    }
   ],
   "source": [
    "df.loc[idx, :]"
   ]
  },
  {
   "cell_type": "code",
   "execution_count": null,
   "metadata": {
    "pycharm": {
     "is_executing": true
    }
   },
   "outputs": [],
   "source": [
    "plt.hist(model.negative_outlier_factor_, range=(-3, 1))"
   ]
  },
  {
   "cell_type": "markdown",
   "metadata": {},
   "source": [
    "## Методы машинного обучения"
   ]
  },
  {
   "cell_type": "markdown",
   "metadata": {
    "slideshow": {
     "slide_type": "subslide"
    }
   },
   "source": [
    "### Изолирующий лес\n",
    "**Предположение**: Аномальные объекты быстрее изолируются от остальных наблюдений в данных\n",
    "<center><img src='img/isofor.png' width=600></center>"
   ]
  },
  {
   "cell_type": "markdown",
   "metadata": {
    "slideshow": {
     "slide_type": "subslide"
    }
   },
   "source": [
    "Каждое дерево в изолирующем лесу строится по следующим правилам:\n",
    "* Дерево строится на случайной подвыборке заданного размера\n",
    "* В каждой вершине выбирается случайный признак и случайный порог\n",
    "* Дерево строится до максимальной глубины\n",
    "\n",
    "Авторы рекомендуют использовать 256 объектов для обучения каждого дерева и 100 деревьев в лесу"
   ]
  },
  {
   "cell_type": "markdown",
   "metadata": {
    "slideshow": {
     "slide_type": "subslide"
    }
   },
   "source": [
    "Мера аномальности - средняя длина пути по деревьям лесу*\n",
    "<center><img src='img/isofor2.png' width=400></center>"
   ]
  },
  {
   "cell_type": "code",
   "execution_count": 16,
   "metadata": {
    "pycharm": {
     "is_executing": true
    }
   },
   "outputs": [],
   "source": [
    "from sklearn.ensemble import IsolationForest"
   ]
  },
  {
   "cell_type": "code",
   "execution_count": 17,
   "metadata": {
    "pycharm": {
     "is_executing": true
    }
   },
   "outputs": [],
   "source": [
    "X = df.iloc[:, :-1].values\n",
    "X[np.isnan(X)] = -999"
   ]
  },
  {
   "cell_type": "code",
   "execution_count": 18,
   "metadata": {
    "pycharm": {
     "is_executing": true
    }
   },
   "outputs": [],
   "source": [
    "model = IsolationForest(n_estimators=100, \n",
    "                        max_samples=256, \n",
    "                        n_jobs=-1, \n",
    "                        random_state=123)"
   ]
  },
  {
   "cell_type": "code",
   "execution_count": 19,
   "metadata": {
    "pycharm": {
     "is_executing": true
    }
   },
   "outputs": [
    {
     "data": {
      "text/plain": [
       "IsolationForest(max_samples=256, n_jobs=-1, random_state=123)"
      ]
     },
     "execution_count": 19,
     "metadata": {},
     "output_type": "execute_result"
    }
   ],
   "source": [
    "model.fit(X)"
   ]
  },
  {
   "cell_type": "code",
   "execution_count": 20,
   "metadata": {
    "pycharm": {
     "is_executing": true
    }
   },
   "outputs": [],
   "source": [
    "score = model.decision_function(X)"
   ]
  },
  {
   "cell_type": "code",
   "execution_count": 21,
   "metadata": {
    "pycharm": {
     "is_executing": true
    }
   },
   "outputs": [
    {
     "data": {
      "text/plain": [
       "(array([  16.,   68.,  261.,  719.,  827.,  976., 1897., 3312., 4303.,\n",
       "        2844.]),\n",
       " array([-0.16675895, -0.13586906, -0.10497917, -0.07408928, -0.0431994 ,\n",
       "        -0.01230951,  0.01858038,  0.04947027,  0.08036015,  0.11125004,\n",
       "         0.14213993]),\n",
       " <BarContainer object of 10 artists>)"
      ]
     },
     "execution_count": 21,
     "metadata": {},
     "output_type": "execute_result"
    },
    {
     "data": {
      "image/png": "[encoded data removed]",
      "text/plain": [
       "<Figure size 864x576 with 1 Axes>"
      ]
     },
     "metadata": {},
     "output_type": "display_data"
    }
   ],
   "source": [
    "plt.hist(score)"
   ]
  },
  {
   "cell_type": "code",
   "execution_count": 23,
   "metadata": {
    "pycharm": {
     "is_executing": true
    }
   },
   "outputs": [
    {
     "ename": "AttributeError",
     "evalue": "'IsolationForest' object has no attribute 'threshold'",
     "output_type": "error",
     "traceback": [
      "\u001B[1;31m---------------------------------------------------------------------------\u001B[0m",
      "\u001B[1;31mAttributeError\u001B[0m                            Traceback (most recent call last)",
      "\u001B[1;32m<ipython-input-23-72182a518788>\u001B[0m in \u001B[0;36m<module>\u001B[1;34m\u001B[0m\n\u001B[1;32m----> 1\u001B[1;33m \u001B[0mmodel\u001B[0m\u001B[1;33m.\u001B[0m\u001B[0mthreshold\u001B[0m\u001B[1;33m\u001B[0m\u001B[1;33m\u001B[0m\u001B[0m\n\u001B[0m",
      "\u001B[1;31mAttributeError\u001B[0m: 'IsolationForest' object has no attribute 'threshold'"
     ]
    }
   ],
   "source": [
    "model."
   ]
  },
  {
   "cell_type": "markdown",
   "metadata": {},
   "source": [
    "## Методы основанные на кластеризации"
   ]
  },
  {
   "cell_type": "markdown",
   "metadata": {},
   "source": [
    "**Предположение 1**: \"Нормальные\" наблюдения принадлежат некоторому кластеру, а аномальные - нет\n",
    "* DBSCAN\n",
    "* OPTICS\n",
    "* ..."
   ]
  },
  {
   "cell_type": "markdown",
   "metadata": {},
   "source": [
    "**Предположение 2**: \"Нормальные\" наблюдения расплолжены близко к центрам кластеров, а аномалии - далеко\n",
    "* Посчитать (относительное) расстояние до центройдов\n",
    "$$ d_{rel}(x_i, \\mu_{C_j}) = \\frac{d(x_i, \\mu_{C_j})}{median([d(x, \\mu_{C_j}) \\ \\forall x \\in C_j])}, \\quad x_i \\in C_j$$\n",
    "* После кластеризации итеративно удалять объекты, которые сильнее всего портят критерий алгоритма\n",
    "* Удалять кластеры, расположенные далеко (?) от остальных кластеров\n",
    "* ..."
   ]
  },
  {
   "cell_type": "markdown",
   "metadata": {},
   "source": [
    "Подробнее про кластеризацию расскажем на следующих занятиях"
   ]
  },
  {
   "cell_type": "markdown",
   "metadata": {},
   "source": [
    "# Дисбаланс классов"
   ]
  },
  {
   "cell_type": "markdown",
   "metadata": {},
   "source": [
    "На практике, при решении задачи классификации, классы могут быть сильно дисбалансированны.\n",
    "\n",
    "Так как, обычно, модели считают объекты равноценными, то представителям минорного класса может уделяться меньшее внимание (просто потому что их мало)\n",
    "\n",
    "Нужно как-то сбалансировать задачу!"
   ]
  },
  {
   "cell_type": "markdown",
   "metadata": {
    "slideshow": {
     "slide_type": "slide"
    }
   },
   "source": [
    "## Способы балансировки классов\n",
    "* Взвешивание функции потерь\n",
    "$$ \\tilde{L}(X, \\theta) = \\sum_iw_iL(x_i, \\theta) $$\n",
    "Обычно $w_i$ обратно пропорциональны частоте соответствующего класса"
   ]
  },
  {
   "cell_type": "code",
   "execution_count": null,
   "metadata": {
    "pycharm": {
     "is_executing": true
    },
    "slideshow": {
     "slide_type": "notes"
    }
   },
   "outputs": [],
   "source": [
    "from sklearn.datasets import make_moons\n",
    "from imblearn.datasets import make_imbalance\n",
    "from sklearn.linear_model import LogisticRegression\n",
    "\n",
    "def demo_weight(class_weight=None, ratio=0.5):\n",
    "\n",
    "    X_, y_ = make_moons(n_samples=500, shuffle=True, noise=0.3, random_state=0)\n",
    "    X, y = make_imbalance(X_, y_, ratio, random_state=0)\n",
    "\n",
    "    model = LogisticRegression(class_weight=class_weight).fit(X, y)\n",
    "    x0, x1 = np.meshgrid(np.linspace(-1, 2.5, 100),\n",
    "                         np.linspace(-2, 2, 100))\n",
    "    xx0, xx1 = x0.ravel(), x1.ravel()\n",
    "\n",
    "    X_grid = np.c_[xx0, xx1]\n",
    "\n",
    "    y_hat = model.decision_function(X_grid)\n",
    "    y_hat = y_hat.reshape(x0.shape)\n",
    "\n",
    "    plt.contour(x0, x1, y_hat, levels=[0])\n",
    "    plt.scatter(X[:,0], \n",
    "                X[:, 1], \n",
    "                c=y, cmap=plt.cm.flag_r)\n",
    "    plt.axis('equal')"
   ]
  },
  {
   "cell_type": "code",
   "execution_count": null,
   "metadata": {
    "pycharm": {
     "is_executing": true
    },
    "scrolled": true,
    "slideshow": {
     "slide_type": "subslide"
    }
   },
   "outputs": [],
   "source": [
    "interact(demo_weight, class_weight=['balanced', None], ratio=FloatSlider(min=0.05, max=0.5, step=0.05))"
   ]
  },
  {
   "cell_type": "markdown",
   "metadata": {
    "slideshow": {
     "slide_type": "slide"
    }
   },
   "source": [
    "### Сэмплирование\n",
    "* Under-sampling\n",
    "* Over-sampling\n",
    "* Ensemble methods\n",
    "\n",
    "See  [imbalanced-learn](https://github.com/scikit-learn-contrib/imbalanced-learn)"
   ]
  },
  {
   "cell_type": "code",
   "execution_count": null,
   "metadata": {
    "pycharm": {
     "is_executing": true
    }
   },
   "outputs": [],
   "source": [
    "!pip install imbalanced-learn"
   ]
  },
  {
   "cell_type": "markdown",
   "metadata": {
    "slideshow": {
     "slide_type": "subslide"
    }
   },
   "source": [
    "## Under-sampling\n",
    "Убираем представителей доминирующего класса\n",
    "* Случайным образом\n",
    "* Оставить эталонные объекты (ClusterCentroids)\n",
    "* Оставить объекты, наиболее похожие на представителей минорного класса (NearMiss)\n",
    "* Удалить объекты, в окрестности которых есть (много) представителей минорного класса (Condenced NN)"
   ]
  },
  {
   "cell_type": "code",
   "execution_count": null,
   "metadata": {
    "pycharm": {
     "is_executing": true
    },
    "slideshow": {
     "slide_type": "notes"
    }
   },
   "outputs": [],
   "source": [
    "from imblearn.under_sampling import NearMiss, RandomUnderSampler, EditedNearestNeighbours, ClusterCentroids, CondensedNearestNeighbour\n",
    "\n",
    "def demo_under(ratio=0.5, sampler=None):\n",
    "\n",
    "    X_, y_ = make_moons(n_samples=500, shuffle=True, noise=0.3, random_state=0)\n",
    "    X, y = make_imbalance(X_, y_, ratio, random_state=0)\n",
    "    \n",
    "    sampler_model = \\\n",
    "              {'rand': RandomUnderSampler(random_state=0),\n",
    "               'cluster': ClusterCentroids(random_state=0),\n",
    "               'editnn': EditedNearestNeighbours(random_state=0),\n",
    "               'condnn': CondensedNearestNeighbour(random_state=0),\n",
    "               'nearmiss': NearMiss(random_state=0, version=1)}.get(sampler)\n",
    "    \n",
    "    if sampler:\n",
    "        X, y = sampler_model.fit_sample(X, y)\n",
    "\n",
    "    model = LogisticRegression(class_weight=None).fit(X, y)\n",
    "    x0, x1 = np.meshgrid(np.linspace(-1, 2.5, 100),\n",
    "                         np.linspace(-2, 2, 100))\n",
    "    xx0, xx1 = x0.ravel(), x1.ravel()\n",
    "\n",
    "    X_grid = np.c_[xx0, xx1]\n",
    "\n",
    "    y_hat = model.decision_function(X_grid)\n",
    "    y_hat = y_hat.reshape(x0.shape)\n",
    "\n",
    "    plt.contour(x0, x1, y_hat, levels=[0])\n",
    "    plt.scatter(X[:,0], \n",
    "                X[:, 1], \n",
    "                c=y, cmap=plt.cm.flag_r)\n",
    "    plt.axis('equal')"
   ]
  },
  {
   "cell_type": "code",
   "execution_count": null,
   "metadata": {
    "pycharm": {
     "is_executing": true
    },
    "slideshow": {
     "slide_type": "subslide"
    }
   },
   "outputs": [],
   "source": [
    "interact(demo_under, ratio=FloatSlider(min=0.05, max=0.5, step=0.05), sampler=[None, 'rand', 'cluster', 'editnn', 'condnn', 'nearmiss'])"
   ]
  },
  {
   "cell_type": "markdown",
   "metadata": {
    "slideshow": {
     "slide_type": "subslide"
    }
   },
   "source": [
    "## Over sampling\n",
    "Генерируем представителей минорного класса\n",
    "* Случайным образом из существующих\n",
    "* Синтетически, на основе существующих\n"
   ]
  },
  {
   "cell_type": "markdown",
   "metadata": {
    "slideshow": {
     "slide_type": "subslide"
    }
   },
   "source": [
    "## SMOTE\n",
    "### Synthetic Minority Over-sampling Technique\n",
    "* Для каждого представителя минорного класса найте $k$ ближайших соседей\n",
    "* Выбрать одного из соседей\n",
    "* Сгенерировать новый объект, расположеный между ними\n",
    "\n",
    "<center><img src='img/smote.png' width=400></center>"
   ]
  },
  {
   "cell_type": "code",
   "execution_count": null,
   "metadata": {
    "pycharm": {
     "is_executing": true
    },
    "slideshow": {
     "slide_type": "notes"
    }
   },
   "outputs": [],
   "source": [
    "from imblearn.over_sampling import SMOTE, RandomOverSampler\n",
    "\n",
    "def demo_over(ratio=0.5, sampler=None):\n",
    "\n",
    "    X_, y_ = make_moons(n_samples=500, shuffle=True, noise=0.3, random_state=0)\n",
    "    X, y = make_imbalance(X_, y_, ratio, random_state=0)\n",
    "    \n",
    "    sampler_model = \\\n",
    "              {'rand': RandomOverSampler(random_state=0),\n",
    "               'smote': SMOTE(),\n",
    "               }.get(sampler)\n",
    "    \n",
    "    if sampler:\n",
    "        X, y = sampler_model.fit_sample(X, y)\n",
    "\n",
    "    model = LogisticRegression(class_weight=None).fit(X, y)\n",
    "    x0, x1 = np.meshgrid(np.linspace(-1, 2.5, 100),\n",
    "                         np.linspace(-2, 2, 100))\n",
    "    xx0, xx1 = x0.ravel(), x1.ravel()\n",
    "\n",
    "    X_grid = np.c_[xx0, xx1]\n",
    "\n",
    "    y_hat = model.decision_function(X_grid)\n",
    "    y_hat = y_hat.reshape(x0.shape)\n",
    "\n",
    "    plt.contour(x0, x1, y_hat, levels=[0])\n",
    "    plt.scatter(X[:,0], \n",
    "                X[:, 1], \n",
    "                c=y, cmap=plt.cm.flag_r)\n",
    "    plt.axis('equal')"
   ]
  },
  {
   "cell_type": "code",
   "execution_count": null,
   "metadata": {
    "pycharm": {
     "is_executing": true
    },
    "slideshow": {
     "slide_type": "subslide"
    }
   },
   "outputs": [],
   "source": [
    "interact(demo_over, ratio=FloatSlider(min=0.05, max=0.5, step=0.05), sampler=[None, 'rand', 'smote'])"
   ]
  },
  {
   "cell_type": "markdown",
   "metadata": {
    "slideshow": {
     "slide_type": "slide"
    }
   },
   "source": [
    "## Ансамблевые методы\n",
    "### Easy Ensemble\n",
    "\n",
    "* Строим несколько моделей на случайно сбалансированных данных"
   ]
  },
  {
   "cell_type": "markdown",
   "metadata": {},
   "source": [
    "## Попробуем сами"
   ]
  },
  {
   "cell_type": "code",
   "execution_count": null,
   "metadata": {
    "pycharm": {
     "is_executing": true
    }
   },
   "outputs": [],
   "source": [
    "from sklearn.metrics import precision_recall_curve\n",
    "from sklearn.metrics import auc\n",
    "from sklearn.model_selection import cross_val_score\n",
    "from sklearn.model_selection import StratifiedKFold\n",
    "from sklearn.preprocessing import OneHotEncoder\n",
    "\n",
    "from sklearn.preprocessing import Imputer\n",
    "from sklearn.linear_model import LogisticRegression\n",
    "from sklearn.pipeline import Pipeline\n",
    "from imblearn.pipeline import Pipeline as Pipeline_imb"
   ]
  },
  {
   "cell_type": "code",
   "execution_count": null,
   "metadata": {
    "pycharm": {
     "is_executing": true
    }
   },
   "outputs": [],
   "source": [
    "def pr_auc(estimator, X, y):\n",
    "    y_hat = estimator.predict_proba(X)[:, 1]\n",
    "    pr, rec, _ = precision_recall_curve(y, y_hat)\n",
    "    return auc(rec, pr)"
   ]
  },
  {
   "cell_type": "code",
   "execution_count": null,
   "metadata": {
    "pycharm": {
     "is_executing": true
    }
   },
   "outputs": [],
   "source": [
    "df_data, features = load_otp()"
   ]
  },
  {
   "cell_type": "code",
   "execution_count": null,
   "metadata": {
    "pycharm": {
     "is_executing": true
    },
    "scrolled": false
   },
   "outputs": [],
   "source": [
    "features[(features.uniq_vals>2) & (features.uniq_vals<100)]"
   ]
  },
  {
   "cell_type": "code",
   "execution_count": null,
   "metadata": {
    "pycharm": {
     "is_executing": true
    }
   },
   "outputs": [],
   "source": [
    "X = df_data.iloc[:, :-1].values\n",
    "y = df_data.iloc[:, -1].values"
   ]
  },
  {
   "cell_type": "code",
   "execution_count": null,
   "metadata": {
    "pycharm": {
     "is_executing": true
    },
    "scrolled": true
   },
   "outputs": [],
   "source": [
    "pipeline1 = Pipeline([\n",
    "    ('imputer', Imputer(strategy='median')),\n",
    "    ('scaller', StandardScaler()),\n",
    "    ('clf', LogisticRegression(random_state=123))\n",
    "])\n",
    "\n",
    "pipeline2 = Pipeline([\n",
    "    ('imputer', Imputer(strategy='median')),\n",
    "    ('scaller', StandardScaler()),\n",
    "    ('clf', LogisticRegression(class_weight='balanced', random_state=123))\n",
    "])\n",
    "\n",
    "pipeline3 = Pipeline_imb([\n",
    "    ('imputer', Imputer(strategy='median')),\n",
    "    ('scaller', StandardScaler()),\n",
    "    ('balancer', SMOTE()),\n",
    "    ('clf', LogisticRegression(random_state=123))\n",
    "])"
   ]
  },
  {
   "cell_type": "code",
   "execution_count": null,
   "metadata": {
    "pycharm": {
     "is_executing": true
    }
   },
   "outputs": [],
   "source": [
    "df_data.active.value_counts()"
   ]
  },
  {
   "cell_type": "code",
   "execution_count": null,
   "metadata": {
    "pycharm": {
     "is_executing": true
    }
   },
   "outputs": [],
   "source": [
    "cv = StratifiedKFold(n_splits=5, random_state=123, shuffle=True)"
   ]
  },
  {
   "cell_type": "code",
   "execution_count": null,
   "metadata": {
    "pycharm": {
     "is_executing": true
    }
   },
   "outputs": [],
   "source": [
    "cross_val_score(pipeline1, X, y, scoring='roc_auc', cv=cv).mean()"
   ]
  },
  {
   "cell_type": "code",
   "execution_count": null,
   "metadata": {
    "pycharm": {
     "is_executing": true
    }
   },
   "outputs": [],
   "source": [
    "pipeline2.fit(X, y)"
   ]
  },
  {
   "cell_type": "code",
   "execution_count": null,
   "metadata": {
    "pycharm": {
     "is_executing": true
    }
   },
   "outputs": [],
   "source": [
    "y_hat = pipeline2.predict_proba(X)"
   ]
  },
  {
   "cell_type": "code",
   "execution_count": null,
   "metadata": {
    "pycharm": {
     "is_executing": true
    }
   },
   "outputs": [],
   "source": [
    "plt.hist(y_hat[:, 1])"
   ]
  },
  {
   "cell_type": "code",
   "execution_count": null,
   "metadata": {
    "pycharm": {
     "is_executing": true
    }
   },
   "outputs": [],
   "source": [
    "cross_val_score(pipeline2, X, y, scoring='roc_auc', cv=cv).mean()"
   ]
  },
  {
   "cell_type": "code",
   "execution_count": null,
   "metadata": {
    "pycharm": {
     "is_executing": true
    }
   },
   "outputs": [],
   "source": [
    "cross_val_score(pipeline3, X, y, scoring='roc_auc', cv=cv).mean()"
   ]
  },
  {
   "cell_type": "markdown",
   "metadata": {},
   "source": [
    "<img src='http://i0.kym-cdn.com/entries/icons/original/000/024/153/soundsgood.jpg'>"
   ]
  },
  {
   "cell_type": "markdown",
   "metadata": {},
   "source": [
    "* На самом деле иногда работает =)"
   ]
  },
  {
   "cell_type": "markdown",
   "metadata": {},
   "source": [
    "# Пропущенные значения"
   ]
  },
  {
   "cell_type": "markdown",
   "metadata": {},
   "source": [
    "Данные - [Sberbank Russian Housing Market](https://www.kaggle.com/c/sberbank-russian-housing-market)"
   ]
  },
  {
   "cell_type": "code",
   "execution_count": null,
   "metadata": {
    "pycharm": {
     "is_executing": true
    }
   },
   "outputs": [],
   "source": [
    "import missingno as msno"
   ]
  },
  {
   "cell_type": "code",
   "execution_count": null,
   "metadata": {
    "pycharm": {
     "is_executing": true
    },
    "scrolled": true
   },
   "outputs": [],
   "source": [
    "!ls data/"
   ]
  },
  {
   "cell_type": "code",
   "execution_count": null,
   "metadata": {
    "pycharm": {
     "is_executing": true
    },
    "scrolled": true
   },
   "outputs": [],
   "source": [
    "!cat data/data_dictionary_sber.txt"
   ]
  },
  {
   "cell_type": "code",
   "execution_count": null,
   "metadata": {
    "pycharm": {
     "is_executing": true
    },
    "scrolled": true
   },
   "outputs": [],
   "source": [
    "!ls data/"
   ]
  },
  {
   "cell_type": "code",
   "execution_count": null,
   "metadata": {
    "pycharm": {
     "is_executing": true
    }
   },
   "outputs": [],
   "source": [
    "#!unzip data/train_sber.csv.zip \n",
    "df = pd.read_csv('train.csv')"
   ]
  },
  {
   "cell_type": "code",
   "execution_count": null,
   "metadata": {
    "pycharm": {
     "is_executing": true
    }
   },
   "outputs": [],
   "source": [
    "df.shape"
   ]
  },
  {
   "cell_type": "code",
   "execution_count": null,
   "metadata": {
    "pycharm": {
     "is_executing": true
    },
    "scrolled": true
   },
   "outputs": [],
   "source": [
    "df.isnull().mean().T.sort_values(ascending=False)"
   ]
  },
  {
   "cell_type": "code",
   "execution_count": null,
   "metadata": {
    "pycharm": {
     "is_executing": true
    }
   },
   "outputs": [],
   "source": [
    "msno.matrix(df, sort='ascending')"
   ]
  },
  {
   "cell_type": "code",
   "execution_count": null,
   "metadata": {
    "pycharm": {
     "is_executing": true
    }
   },
   "outputs": [],
   "source": [
    "msno.matrix(df.iloc[:, :10], sort='ascending')"
   ]
  },
  {
   "cell_type": "code",
   "execution_count": null,
   "metadata": {
    "pycharm": {
     "is_executing": true
    },
    "scrolled": true
   },
   "outputs": [],
   "source": [
    "msno.dendrogram(df)"
   ]
  },
  {
   "cell_type": "markdown",
   "metadata": {},
   "source": [
    "## Наиболее распространенные способы работы с пропусками"
   ]
  },
  {
   "cell_type": "markdown",
   "metadata": {},
   "source": [
    "* Замена средним (медианой, модой) по признаку\n",
    "* К-ближайших соседей\n",
    "* Модельный подход\n",
    "\n",
    "\n",
    "* Некоторые алгоритмы нормально относятся к пропущенным значениям\n",
    "    * Алгоритмы, основанные на деревьях\n",
    "   \n"
   ]
  },
  {
   "cell_type": "code",
   "execution_count": null,
   "metadata": {
    "pycharm": {
     "is_executing": true
    }
   },
   "outputs": [],
   "source": [
    "from sklearn.base import BaseEstimator, TransformerMixin"
   ]
  },
  {
   "cell_type": "code",
   "execution_count": null,
   "metadata": {
    "pycharm": {
     "is_executing": true
    }
   },
   "outputs": [],
   "source": [
    "class ZeroImputer(BaseEstimator, TransformerMixin):\n",
    "    def fit(self, X, y=None):\n",
    "        return self\n",
    "\n",
    "    def transform(self, X):\n",
    "        idx = np.isnan(X)\n",
    "        X[idx] = 0.0\n",
    "        return X"
   ]
  },
  {
   "cell_type": "markdown",
   "metadata": {},
   "source": [
    "# Работа с признаками"
   ]
  },
  {
   "cell_type": "markdown",
   "metadata": {},
   "source": [
    "## Категориальные признаки"
   ]
  },
  {
   "cell_type": "markdown",
   "metadata": {},
   "source": [
    "* Много редких категории\n",
    "* One-hot encoding\n",
    "* Кодирование через другие переменные или данные\n"
   ]
  },
  {
   "cell_type": "markdown",
   "metadata": {},
   "source": [
    "## Бинирование признаков"
   ]
  },
  {
   "cell_type": "markdown",
   "metadata": {},
   "source": [
    "Вот так (примерно) выглядит скор-карта на выдачу кредита"
   ]
  },
  {
   "cell_type": "markdown",
   "metadata": {},
   "source": [
    "<img src='https://www.mathworks.com/help/finance/credit_score_card_overview.png'>"
   ]
  },
  {
   "cell_type": "markdown",
   "metadata": {},
   "source": [
    "Каждый \"признак\" разбит на бины (bins) - значимые интервалы. Если значение признака попадает в интервал, то к скору заемщика прибавляется сооветвтвующая величина."
   ]
  },
  {
   "cell_type": "markdown",
   "metadata": {},
   "source": [
    "* Как бы вы реализовали биннинг?\n",
    "* Библиотечка на R - [smbinning](http://blog.revolutionanalytics.com/2015/03/r-package-smbinning-optimal-binning-for-scoring-modeling.html)"
   ]
  },
  {
   "cell_type": "code",
   "execution_count": null,
   "metadata": {
    "pycharm": {
     "is_executing": true
    }
   },
   "outputs": [],
   "source": []
  },
  {
   "cell_type": "markdown",
   "metadata": {},
   "source": [
    "## Feature Selection (для Supervised Models)\n",
    "Методы делятся на следующие группы:\n",
    "* Filter methods \n",
    "    * Признаки рассматриваются независимо друг от друга\n",
    "    * Изучается индивидуальный \"вклад\" призника в предсказываемую переменную\n",
    "    * Быстрое вычисление\n",
    "* Wrapper methods\n",
    "    * Идет отбор группы признаков\n",
    "    * Может быть оооочень медленным, но качество, обычно, лучше чем у Filter Methods\n",
    "    * Примеры: Stepwise feature selection for regression, [Boruta Algorithm](https://www.google.ru/url?sa=t&rct=j&q=&esrc=s&source=web&cd=2&ved=0ahUKEwif5biy-fTWAhXkYJoKHbdxCLAQFgg2MAE&url=https%3A%2F%2Fwww.jstatsoft.org%2Farticle%2Fview%2Fv036i11%2Fv36i11.pdf&usg=AOvVaw3tyiHN0BCe2fkkAA6xEVDE)\n",
    "* Embedded methods\n",
    "    * Отбор признаков \"зашит\" в модель\n",
    "\n",
    "#### Filter method - Mutual Information\n",
    "Пусть $X$ - категориальный признак, $Y$ - целевой признак (метка класса)\n",
    "$$MI(Y, X) = \\sum_{x,y} p(x,y) \\ln\\left[\\frac{p(x,y)}{p(x)p(y)}\\right]$$\n",
    "Сколько информации $x$ сообщает об $y$.\n",
    "\n",
    "#### Filter method - Information Value, Weight Of Evidence\n",
    "$$IV(Y,X) = \\sum_{x} \\left(p(y=1|x) - p(y=0|x)\\right)\\ln\\frac{p(y=1|x)}{p(y=0|x)} $$\n",
    "\n",
    "<img src='img/iv-sample.png'>"
   ]
  },
  {
   "cell_type": "markdown",
   "metadata": {},
   "source": [
    "#### Wrapper methods\n",
    "Recursive Feature Elimination"
   ]
  },
  {
   "cell_type": "code",
   "execution_count": null,
   "metadata": {
    "pycharm": {
     "is_executing": true
    }
   },
   "outputs": [],
   "source": [
    "from sklearn.feature_selection import RFECV"
   ]
  },
  {
   "cell_type": "code",
   "execution_count": null,
   "metadata": {
    "pycharm": {
     "is_executing": true
    },
    "scrolled": true
   },
   "outputs": [],
   "source": [
    "df_data, features = load_otp()"
   ]
  },
  {
   "cell_type": "code",
   "execution_count": null,
   "metadata": {
    "pycharm": {
     "is_executing": true
    }
   },
   "outputs": [],
   "source": [
    "X = df_data.iloc[:, :-1].fillna(0).values\n",
    "y = df_data.iloc[:, -1].values"
   ]
  },
  {
   "cell_type": "code",
   "execution_count": null,
   "metadata": {
    "pycharm": {
     "is_executing": true
    }
   },
   "outputs": [],
   "source": [
    "cv = StratifiedKFold(3, shuffle=True, random_state=123)"
   ]
  },
  {
   "cell_type": "code",
   "execution_count": null,
   "metadata": {
    "pycharm": {
     "is_executing": true
    }
   },
   "outputs": [],
   "source": [
    "pipeline = Pipeline([\n",
    "    ('imputer', Imputer(strategy='median')),\n",
    "    ('scaller', StandardScaler()),\n",
    "    ('clf', RFECV(LogisticRegression(class_weight='balanced'), verbose=2, cv=cv, scoring=pr_auc, n_jobs=1))\n",
    "])"
   ]
  },
  {
   "cell_type": "code",
   "execution_count": null,
   "metadata": {
    "pycharm": {
     "is_executing": true
    },
    "scrolled": true
   },
   "outputs": [],
   "source": [
    "pipeline.fit(X, y)"
   ]
  },
  {
   "cell_type": "code",
   "execution_count": null,
   "metadata": {
    "pycharm": {
     "is_executing": true
    }
   },
   "outputs": [],
   "source": [
    "pipeline.named_steps['clf']"
   ]
  },
  {
   "cell_type": "code",
   "execution_count": null,
   "metadata": {
    "pycharm": {
     "is_executing": true
    }
   },
   "outputs": [],
   "source": [
    "plt.figure()\n",
    "plt.xlabel(\"Number of features selected\")\n",
    "plt.ylabel(\"Cross validation score\")\n",
    "plt.plot(range(1, len(pipeline.named_steps['clf'].grid_scores_) + 1), pipeline.named_steps['clf'].grid_scores_)\n",
    "print(\"Optimal number of features : %d\" % pipeline.named_steps['clf'].n_features_)\n",
    "plt.show()"
   ]
  },
  {
   "cell_type": "code",
   "execution_count": null,
   "metadata": {
    "pycharm": {
     "is_executing": true
    }
   },
   "outputs": [],
   "source": [
    "np.array(df_data.iloc[:, :-1].columns)[pipeline.named_steps['clf'].get_support()]"
   ]
  },
  {
   "cell_type": "markdown",
   "metadata": {},
   "source": [
    "#### Embedded methods\n",
    "* Feature importance у деревьев решений\n",
    "* L1 регуляризация у линейной и логистической регрессии"
   ]
  },
  {
   "cell_type": "code",
   "execution_count": null,
   "metadata": {
    "pycharm": {
     "is_executing": true
    }
   },
   "outputs": [],
   "source": [
    "from sklearn.ensemble import RandomForestClassifier\n",
    "\n",
    "model = RandomForestClassifier()\n",
    "model.fit(X, y)"
   ]
  },
  {
   "cell_type": "code",
   "execution_count": null,
   "metadata": {
    "pycharm": {
     "is_executing": true
    }
   },
   "outputs": [],
   "source": [
    "rf_importance = pd.DataFrame(model.feature_importances_, df_data.iloc[:, :-1].columns)"
   ]
  },
  {
   "cell_type": "code",
   "execution_count": null,
   "metadata": {
    "pycharm": {
     "is_executing": true
    }
   },
   "outputs": [],
   "source": [
    "rf_importance.sort_values(by=0, ascending=False).plot.barh(figsize = (15, 10))"
   ]
  },
  {
   "cell_type": "markdown",
   "metadata": {},
   "source": [
    "## CountVectorizer и TF-IDF"
   ]
  },
  {
   "cell_type": "markdown",
   "metadata": {},
   "source": [
    "### Анализ тональности"
   ]
  },
  {
   "cell_type": "markdown",
   "metadata": {},
   "source": [
    "#### Текстовые данные [отсюда](https://archive.ics.uci.edu/ml/machine-learning-databases/00331/). \n",
    "Архив должен содержать 3 файла с положительными и отрицательными отзывами с ресурсов\n",
    "* imdb.com\n",
    "* amazon.com\n",
    "* yelp.com\n",
    "\n",
    "Формат файла следующий:\n",
    "<отзыв>\\t<метка>\\n"
   ]
  },
  {
   "cell_type": "code",
   "execution_count": null,
   "metadata": {
    "pycharm": {
     "is_executing": true
    },
    "scrolled": false
   },
   "outputs": [],
   "source": [
    "df = pd.read_csv('data/amazon_cells_labelled.txt', sep='\\t', \n",
    "                 header=None, \n",
    "                 names=['text', 'label'])\n",
    "df.head()"
   ]
  },
  {
   "cell_type": "code",
   "execution_count": null,
   "metadata": {
    "code_folding": [
     7,
     26
    ],
    "pycharm": {
     "is_executing": true
    }
   },
   "outputs": [],
   "source": [
    "from sklearn.feature_extraction.text import CountVectorizer\n",
    "from sklearn.feature_extraction.text import TfidfVectorizer\n",
    "\n",
    "from sklearn.model_selection import train_test_split\n",
    "from sklearn.metrics import confusion_matrix, roc_curve\n",
    "\n",
    "\n",
    "def plot_roc_curve(predictions, yval):\n",
    "    try:\n",
    "        preds = predictions[:,1]\n",
    "    except:\n",
    "        preds = np.array(predictions)\n",
    "    fpr, tpr, threshold = roc_curve(yval, preds)\n",
    "    roc_auc = auc(fpr, tpr)\n",
    "    with plt.rc_context({'xtick.color':'white', 'ytick.color':'white',\n",
    "                     'axes.labelcolor':'white'}):\n",
    "        plt.title('Receiver Operating Characteristic')\n",
    "        plt.plot(fpr, tpr, 'b', label = 'AUC = %0.2f' % roc_auc)\n",
    "        plt.legend(loc = 'lower right')\n",
    "        plt.plot([0, 1], [0, 1],'r--')\n",
    "        plt.xlim([0, 1])\n",
    "        plt.ylim([0, 1])\n",
    "        plt.ylabel('True Positive Rate')\n",
    "        plt.xlabel('False Positive Rate')\n",
    "        plt.show()\n",
    "        \n",
    "def visualize_coefficients(classifier, feature_names, n_top_features=10):\n",
    "    \n",
    "    ### визулизирует влияние факторов на целевую переменную\n",
    "    \n",
    "    coef = classifier.coef_.ravel()\n",
    "    positive_coefficients = np.argsort(coef)[-n_top_features:]\n",
    "    negative_coefficients = np.argsort(coef)[:n_top_features]\n",
    "    interesting_coefficients = np.hstack([negative_coefficients, positive_coefficients])\n",
    "   \n",
    "    plt.figure(figsize=(15, 5))\n",
    "    colors = [\"red\" if c < 0 else \"blue\" for c in coef[interesting_coefficients]]\n",
    "    plt.bar(np.arange(2 * n_top_features), coef[interesting_coefficients], color=colors)\n",
    "    feature_names = np.array(feature_names)\n",
    "    plt.xticks(np.arange(0, 2 * n_top_features), feature_names[interesting_coefficients], rotation=60, ha=\"right\");"
   ]
  },
  {
   "cell_type": "code",
   "execution_count": null,
   "metadata": {
    "pycharm": {
     "is_executing": true
    }
   },
   "outputs": [],
   "source": [
    "model = Pipeline([\n",
    "    ('vect', TfidfVectorizer(stop_words='english', \n",
    "                             ngram_range=(1,1),\n",
    "                             max_df=0.95, min_df=5)),\n",
    "    ('clf', LogisticRegression()),\n",
    "])\n",
    "\n",
    "\n",
    "model2 = Pipeline([\n",
    "    ('vect', CountVectorizer(stop_words='english', \n",
    "                             ngram_range=(1,1))),\n",
    "    ('clf', LogisticRegression()),\n",
    "])"
   ]
  },
  {
   "cell_type": "code",
   "execution_count": null,
   "metadata": {
    "pycharm": {
     "is_executing": true
    }
   },
   "outputs": [],
   "source": [
    "texts = df.text.values"
   ]
  },
  {
   "cell_type": "code",
   "execution_count": null,
   "metadata": {
    "pycharm": {
     "is_executing": true
    }
   },
   "outputs": [],
   "source": [
    "texts[:10]"
   ]
  },
  {
   "cell_type": "code",
   "execution_count": null,
   "metadata": {
    "pycharm": {
     "is_executing": true
    }
   },
   "outputs": [],
   "source": [
    "y = df.label.values"
   ]
  },
  {
   "cell_type": "code",
   "execution_count": null,
   "metadata": {
    "pycharm": {
     "is_executing": true
    }
   },
   "outputs": [],
   "source": [
    "X_train, X_test, y_train, y_test = train_test_split(texts, y, test_size=0.3)"
   ]
  },
  {
   "cell_type": "code",
   "execution_count": null,
   "metadata": {
    "pycharm": {
     "is_executing": true
    }
   },
   "outputs": [],
   "source": [
    "model.fit(X_train, y_train)\n",
    "model2.fit(X_train, y_train)"
   ]
  },
  {
   "cell_type": "code",
   "execution_count": null,
   "metadata": {
    "pycharm": {
     "is_executing": true
    }
   },
   "outputs": [],
   "source": [
    "words = model.steps[0][1].get_feature_names()\n",
    "\n",
    "words2 = model2.steps[0][1].get_feature_names()"
   ]
  },
  {
   "cell_type": "code",
   "execution_count": null,
   "metadata": {
    "pycharm": {
     "is_executing": true
    }
   },
   "outputs": [],
   "source": [
    "X = model.steps[0][1].transform(texts)"
   ]
  },
  {
   "cell_type": "code",
   "execution_count": null,
   "metadata": {
    "pycharm": {
     "is_executing": true
    }
   },
   "outputs": [],
   "source": [
    "X"
   ]
  },
  {
   "cell_type": "code",
   "execution_count": null,
   "metadata": {
    "pycharm": {
     "is_executing": true
    }
   },
   "outputs": [],
   "source": [
    "len(words), len(words2)"
   ]
  },
  {
   "cell_type": "code",
   "execution_count": null,
   "metadata": {
    "pycharm": {
     "is_executing": true
    }
   },
   "outputs": [],
   "source": [
    "plot_roc_curve(model.predict_proba(X_test), y_test)\n",
    "\n",
    "plot_roc_curve(model2.predict_proba(X_test), y_test)"
   ]
  },
  {
   "cell_type": "code",
   "execution_count": null,
   "metadata": {
    "pycharm": {
     "is_executing": true
    }
   },
   "outputs": [],
   "source": [
    "confusion_matrix(model.predict(X_test), y_test)"
   ]
  },
  {
   "cell_type": "code",
   "execution_count": null,
   "metadata": {
    "pycharm": {
     "is_executing": true
    }
   },
   "outputs": [],
   "source": [
    "visualize_coefficients(model.named_steps['clf'], words)\n",
    "\n",
    "visualize_coefficients(model2.named_steps['clf'], words2)"
   ]
  },
  {
   "cell_type": "code",
   "execution_count": null,
   "metadata": {
    "pycharm": {
     "is_executing": true
    }
   },
   "outputs": [],
   "source": [
    "coefs = model.steps[1][1].coef_[0]\n",
    "model_weights = pd.Series(index=words, data=coefs)\n",
    "model_weights.sort_values()"
   ]
  },
  {
   "cell_type": "code",
   "execution_count": null,
   "metadata": {
    "pycharm": {
     "is_executing": true
    }
   },
   "outputs": [],
   "source": [
    "y_hat = model.predict_proba(texts)"
   ]
  },
  {
   "cell_type": "code",
   "execution_count": null,
   "metadata": {
    "pycharm": {
     "is_executing": true
    }
   },
   "outputs": [],
   "source": [
    "plt.hist(y_hat[:, 1]);"
   ]
  }
 ],
 "metadata": {
  "anaconda-cloud": {},
  "kernelspec": {
   "display_name": "Python 3",
   "language": "python",
   "name": "python3"
  },
  "language_info": {
   "codemirror_mode": {
    "name": "ipython",
    "version": 3
   },
   "file_extension": ".py",
   "mimetype": "text/x-python",
   "name": "python",
   "nbconvert_exporter": "python",
   "pygments_lexer": "ipython3",
   "version": "3.9.1"
  },
  "nav_menu": {},
  "toc": {
   "colors": {
    "hover_highlight": "#DAA520",
    "navigate_num": "#000000",
    "navigate_text": "#333333",
    "running_highlight": "#FF0000",
    "selected_highlight": "#FFD700",
    "sidebar_border": "#EEEEEE",
    "wrapper_background": "#FFFFFF"
   },
   "moveMenuLeft": true,
   "nav_menu": {
    "height": "347px",
    "width": "253px"
   },
   "navigate_menu": true,
   "number_sections": false,
   "sideBar": false,
   "threshold": 4,
   "toc_cell": true,
   "toc_position": {
    "height": "38px",
    "left": "926px",
    "right": "57.4667px",
    "top": "81px",
    "width": "160px"
   },
   "toc_section_display": "none",
   "toc_window_display": true,
   "widenNotebook": false
  },
  "toc_position": {
   "height": "40px",
   "left": "816px",
   "right": "38.6667px",
   "top": "0px",
   "width": "212px"
  },
  "varInspector": {
   "cols": {
    "lenName": 16,
    "lenType": 16,
    "lenVar": 40
   },
   "kernels_config": {
    "python": {
     "delete_cmd_postfix": "",
     "delete_cmd_prefix": "del ",
     "library": "var_list.py",
     "varRefreshCmd": "print(var_dic_list())"
    },
    "r": {
     "delete_cmd_postfix": ") ",
     "delete_cmd_prefix": "rm(",
     "library": "var_list.r",
     "varRefreshCmd": "cat(var_dic_list()) "
    }
   },
   "types_to_exclude": [
    "module",
    "function",
    "builtin_function_or_method",
    "instance",
    "_Feature"
   ],
   "window_display": false
  }
 },
 "nbformat": 4,
 "nbformat_minor": 1
}